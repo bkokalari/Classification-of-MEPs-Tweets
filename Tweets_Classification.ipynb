{
 "cells": [
  {
   "cell_type": "markdown",
   "metadata": {},
   "source": [
    "# Classification of MEPs' Tweets\n",
    "\n",
    "*Assignment 3*  \n",
    "*Business Analytics Practicum I*  \n",
    "*Brikena Kokalari P2821811*"
   ]
  },
  {
   "cell_type": "markdown",
   "metadata": {},
   "source": [
    "You will investigate a dataset of tweets made by Members of the European Parliament. You will use data collected by Darko Cherepnalkoski, Andreas Karpf, Igor Mozetič, and Miha Grčar for their paper [Cohesion and Coalition Formation in the European Parliament: Roll-Call Votes and Twitter Activities](https://journals.plos.org/plosone/article?id=10.1371/journal.pone.0166586) (while you are at it, why not read the paper as well?).\n",
    "\n",
    "This assignment is based on an original assignment by Ioannis Pavlopoulos (postdoc researcher) and Vasiliki Kougia (PhD candidate at AUEB).\n",
    "\n",
    "---\n",
    "\n",
    "> Panos Louridas, Associate Professor <br />\n",
    "> Department of Management Science and Technology <br />\n",
    "> Athens University of Economics and Business <br />\n",
    "> louridas@aueb.gr\n"
   ]
  },
  {
   "cell_type": "markdown",
   "metadata": {},
   "source": [
    "\n",
    "The dataset contains all retweets between MEPs between 1.10.2014 and 1.3.2016 in CSV format. \n",
    "\n",
    "Description of columns:\n",
    "- origUserId: the Twitter id of the MEP that posted the original tweet\n",
    "- origUserScreenName: the Twitter name of the MEP that posted the original tweet\n",
    "- origMepId: the mepId of the MEP that posted the original tweet\n",
    "- origMepName: the name of the MEP that posted the original tweet\n",
    "- origMepGroupId: the European group id of the MEP that posted the original tweet\n",
    "- origMepGroupShort: the shortened European group name of the MEP that posted the original tweet\n",
    "- origMepCountryId: the country id of the MEP that posted the original tweet\n",
    "- origMepCountryShort: the shortened country name of the MEP that posted the original tweet\n",
    "- retweetUserId: the Twitter id of the MEP that posted the retweet\n",
    "- retweetUserScreenName: the Twitter name of the MEP that posted the retweet\n",
    "- retweetMepId: the mepId of the MEP that posted the retweet\n",
    "- retweetMepName: the name of the MEP that posted the retweet\n",
    "- retweetMepGroupId: the European group id of the MEP that posted the retweet\n",
    "- retweetMepGroupShort: the shortened European group name of the MEP that posted the retweet\n",
    "- retweetMepCountryId: the country id of the MEP that posted the retweet\n",
    "- retweetMepCountryShort: the shortened country name of the MEP that posted the retweet\n",
    "- origCreatedAt: the timestamp of the original tweet\n",
    "- origTweetId: the Twitter id of the original tweet\n",
    "- retweetCreatedAt: the timestamp of the retweet\n",
    "- retweetTweetId: the Twitter id of the retweet\n",
    "- lang: the language of the original tweet"
   ]
  },
  {
   "cell_type": "markdown",
   "metadata": {},
   "source": [
    "Let's import all the library that we need"
   ]
  },
  {
   "cell_type": "code",
   "execution_count": 1,
   "metadata": {},
   "outputs": [
    {
     "name": "stderr",
     "output_type": "stream",
     "text": [
      "[nltk_data] Downloading package stopwords to C:\\Users\\Brikena\n",
      "[nltk_data]     Kokalari\\AppData\\Roaming\\nltk_data...\n",
      "[nltk_data]   Package stopwords is already up-to-date!\n",
      "[nltk_data] Downloading package stopwords to C:\\Users\\Brikena\n",
      "[nltk_data]     Kokalari\\AppData\\Roaming\\nltk_data...\n",
      "[nltk_data]   Package stopwords is already up-to-date!\n"
     ]
    }
   ],
   "source": [
    "import numpy as np\n",
    "import pandas as pd\n",
    "import matplotlib.pyplot as plt\n",
    "%matplotlib inline\n",
    "import tweepy\n",
    "import os\n",
    "from dotenv import load_dotenv\n",
    "import re as reg\n",
    "import re\n",
    "from sklearn.feature_extraction.text import CountVectorizer\n",
    "import nltk\n",
    "from nltk.corpus import stopwords\n",
    "from nltk.tokenize import word_tokenize \n",
    "import sklearn as sk\n",
    "nltk.download('stopwords')\n",
    "from nltk.corpus import stopwords\n",
    "from sklearn.dummy import DummyClassifier\n",
    "from sklearn.model_selection import train_test_split\n",
    "from nltk.corpus import stopwords\n",
    "import time\n",
    "import os\n",
    "from nltk.stem.porter import PorterStemmer\n",
    "#Importing the required classifier modules\n",
    "from sklearn.ensemble import RandomForestClassifier\n",
    "from sklearn.naive_bayes import GaussianNB\n",
    "from sklearn.tree import DecisionTreeClassifier\n",
    "from sklearn.svm import SVC\n",
    "from sklearn.linear_model import SGDClassifier\n",
    "from sklearn.metrics import confusion_matrix\n",
    "from sklearn.model_selection import train_test_split\n",
    "from sklearn.metrics import accuracy_score\n",
    "from sklearn.model_selection import GridSearchCV\n",
    "from sklearn.pipeline import Pipeline\n",
    "from sklearn.feature_extraction.text import TfidfTransformer\n",
    "from sklearn.naive_bayes import MultinomialNB\n",
    "from sklearn.linear_model import LogisticRegression\n",
    "from wordcloud import WordCloud\n",
    "from sklearn.model_selection import train_test_split\n",
    "from sklearn.feature_extraction.text import TfidfVectorizer\n",
    "from sklearn.model_selection import cross_val_score\n",
    "from sklearn.model_selection import train_test_split\n",
    "from sklearn.neighbors import KNeighborsClassifier"
   ]
  },
  {
   "cell_type": "code",
   "execution_count": 2,
   "metadata": {},
   "outputs": [],
   "source": [
    "import timeit\n",
    "start = timeit.default_timer()"
   ]
  },
  {
   "cell_type": "code",
   "execution_count": 3,
   "metadata": {},
   "outputs": [],
   "source": [
    "#read the data\n",
    "data = pd.read_csv('retweets.csv', delimiter = ',')"
   ]
  },
  {
   "cell_type": "code",
   "execution_count": 4,
   "metadata": {},
   "outputs": [],
   "source": [
    "data=data.loc[data['lang'] == 'en']"
   ]
  },
  {
   "cell_type": "code",
   "execution_count": 5,
   "metadata": {},
   "outputs": [
    {
     "data": {
      "text/plain": [
       "origUserId                 int64\n",
       "origUserScreenName        object\n",
       "origMepId                  int64\n",
       "origMepName               object\n",
       "origMepGroupId             int64\n",
       "origMepGroupShort         object\n",
       "origMepCountryId           int64\n",
       "origMepCountryShort       object\n",
       "retweetUserId              int64\n",
       "retweetUserScreenName     object\n",
       "retweetMepId               int64\n",
       "retweetMepName            object\n",
       "retweetMepGroupId          int64\n",
       "retweetMepGroupShort      object\n",
       "retweetMepCountryId        int64\n",
       "retweetMepCountryShort    object\n",
       "origCreatedAt             object\n",
       "origTweetId                int64\n",
       "retweetCreatedAt          object\n",
       "retweetTweetId             int64\n",
       "lang                      object\n",
       "dtype: object"
      ]
     },
     "execution_count": 5,
     "metadata": {},
     "output_type": "execute_result"
    }
   ],
   "source": [
    "data.dtypes"
   ]
  },
  {
   "cell_type": "code",
   "execution_count": 6,
   "metadata": {},
   "outputs": [
    {
     "name": "stdout",
     "output_type": "stream",
     "text": [
      "Authentication OK\n"
     ]
    }
   ],
   "source": [
    "# Authenticate to Twitter\n",
    "#\n",
    "auth = tweepy.OAuthHandler(\"XXX\", \"XXX\")\n",
    "auth.set_access_token(\"XX-XXXX\",\"XXX\")\n",
    "api = tweepy.API(auth, wait_on_rate_limit=True,wait_on_rate_limit_notify=True)\n",
    "# test authentication\n",
    "try:\n",
    "    api.verify_credentials()\n",
    "    print(\"Authentication OK\")\n",
    "except:\n",
    "    print(\"Error during authentication\")"
   ]
  },
  {
   "cell_type": "code",
   "execution_count": 7,
   "metadata": {},
   "outputs": [],
   "source": [
    "tweet_list = data.origTweetId.tolist()"
   ]
  },
  {
   "cell_type": "code",
   "execution_count": 8,
   "metadata": {},
   "outputs": [],
   "source": [
    "tweet_id = []\n",
    "tweet = []"
   ]
  },
  {
   "cell_type": "code",
   "execution_count": 9,
   "metadata": {},
   "outputs": [
    {
     "name": "stdout",
     "output_type": "stream",
     "text": [
      "0\n",
      "100\n",
      "200\n",
      "300\n",
      "400\n",
      "500\n",
      "600\n",
      "700\n",
      "800\n",
      "900\n",
      "1000\n",
      "1100\n",
      "1200\n",
      "1300\n",
      "1400\n",
      "1500\n",
      "1600\n",
      "1700\n",
      "1800\n",
      "1900\n",
      "2000\n",
      "2100\n",
      "2200\n",
      "2300\n",
      "2400\n",
      "2500\n",
      "2600\n",
      "2700\n",
      "2800\n",
      "2900\n",
      "3000\n",
      "3100\n",
      "3200\n",
      "3300\n",
      "3400\n",
      "3500\n",
      "3600\n",
      "3700\n",
      "3800\n",
      "3900\n",
      "4000\n",
      "4100\n",
      "4200\n",
      "4300\n",
      "4400\n",
      "4500\n",
      "4600\n",
      "4700\n",
      "4800\n",
      "4900\n",
      "5000\n",
      "5100\n",
      "5200\n",
      "5300\n",
      "5400\n",
      "5500\n",
      "5600\n",
      "5700\n",
      "5800\n",
      "5900\n",
      "6000\n",
      "6100\n",
      "6200\n",
      "6300\n",
      "6400\n",
      "6500\n",
      "6600\n",
      "6700\n",
      "6800\n",
      "6900\n",
      "7000\n",
      "7100\n",
      "7200\n",
      "7300\n",
      "7400\n",
      "7500\n",
      "7600\n",
      "7700\n",
      "7800\n",
      "7900\n",
      "8000\n",
      "8100\n",
      "8200\n",
      "8300\n",
      "8400\n",
      "8500\n",
      "8600\n",
      "8700\n",
      "8800\n",
      "8900\n",
      "9000\n",
      "9100\n",
      "9200\n",
      "9300\n",
      "9400\n",
      "9500\n",
      "9600\n",
      "9700\n",
      "9800\n",
      "9900\n",
      "10000\n",
      "10100\n",
      "10200\n",
      "10300\n",
      "10400\n",
      "10500\n",
      "10600\n",
      "10700\n",
      "10800\n",
      "10900\n",
      "11000\n",
      "11100\n",
      "11200\n",
      "11300\n",
      "11400\n",
      "11500\n",
      "11600\n",
      "11700\n",
      "11800\n",
      "11900\n",
      "12000\n",
      "12100\n",
      "12200\n",
      "12300\n",
      "12400\n",
      "12500\n",
      "12600\n",
      "12700\n",
      "12800\n",
      "12900\n",
      "13000\n",
      "13100\n",
      "13200\n",
      "13300\n",
      "13400\n",
      "13500\n",
      "13600\n",
      "13700\n"
     ]
    }
   ],
   "source": [
    "for j in range(0,len(tweet_list),100):\n",
    "    tweets = api.statuses_lookup(tweet_list[j:j+100]) \n",
    "    try:\n",
    "        for i in tweets:\n",
    "            tweet_id.append(i.id)\n",
    "            tweet.append(i.text)\n",
    "        print(j)\n",
    "    except Exception:\n",
    "        #print('error')\n",
    "        pass"
   ]
  },
  {
   "cell_type": "code",
   "execution_count": 10,
   "metadata": {},
   "outputs": [
    {
     "data": {
      "text/plain": [
       "13796"
      ]
     },
     "execution_count": 10,
     "metadata": {},
     "output_type": "execute_result"
    }
   ],
   "source": [
    "len(tweet_list)"
   ]
  },
  {
   "cell_type": "code",
   "execution_count": 11,
   "metadata": {},
   "outputs": [],
   "source": [
    "tweet_id = list(map(int, tweet_id))"
   ]
  },
  {
   "cell_type": "markdown",
   "metadata": {},
   "source": [
    "One approach to create pandas dataframe from one or more lists is to create a dictionary first. Let us make a dictionary with two lists such that Tweet IDs as keys and the text of the tweet as values"
   ]
  },
  {
   "cell_type": "code",
   "execution_count": 12,
   "metadata": {},
   "outputs": [],
   "source": [
    "df = {'origTweetId':tweet_id,'tweet':tweet}"
   ]
  },
  {
   "cell_type": "code",
   "execution_count": 13,
   "metadata": {},
   "outputs": [
    {
     "data": {
      "text/html": [
       "<div>\n",
       "<style scoped>\n",
       "    .dataframe tbody tr th:only-of-type {\n",
       "        vertical-align: middle;\n",
       "    }\n",
       "\n",
       "    .dataframe tbody tr th {\n",
       "        vertical-align: top;\n",
       "    }\n",
       "\n",
       "    .dataframe thead th {\n",
       "        text-align: right;\n",
       "    }\n",
       "</style>\n",
       "<table border=\"1\" class=\"dataframe\">\n",
       "  <thead>\n",
       "    <tr style=\"text-align: right;\">\n",
       "      <th></th>\n",
       "      <th>origTweetId</th>\n",
       "      <th>tweet</th>\n",
       "    </tr>\n",
       "  </thead>\n",
       "  <tbody>\n",
       "    <tr>\n",
       "      <th>0</th>\n",
       "      <td>519050739642286080</td>\n",
       "      <td>Lord Hill's written answers to EP are now on m...</td>\n",
       "    </tr>\n",
       "    <tr>\n",
       "      <th>1</th>\n",
       "      <td>519139901359783936</td>\n",
       "      <td>Our @SebDance asks @ABratusek about global cli...</td>\n",
       "    </tr>\n",
       "    <tr>\n",
       "      <th>2</th>\n",
       "      <td>518024241024073728</td>\n",
       "      <td>I write for @LabourList Tory threat to Court o...</td>\n",
       "    </tr>\n",
       "    <tr>\n",
       "      <th>3</th>\n",
       "      <td>519109106272317440</td>\n",
       "      <td>“@Ashleyfoxmep: and named her party \"the Allia...</td>\n",
       "    </tr>\n",
       "    <tr>\n",
       "      <th>4</th>\n",
       "      <td>518721908951769088</td>\n",
       "      <td>Good luck to @TheProgressives in Bulgaria toda...</td>\n",
       "    </tr>\n",
       "  </tbody>\n",
       "</table>\n",
       "</div>"
      ],
      "text/plain": [
       "          origTweetId                                              tweet\n",
       "0  519050739642286080  Lord Hill's written answers to EP are now on m...\n",
       "1  519139901359783936  Our @SebDance asks @ABratusek about global cli...\n",
       "2  518024241024073728  I write for @LabourList Tory threat to Court o...\n",
       "3  519109106272317440  “@Ashleyfoxmep: and named her party \"the Allia...\n",
       "4  518721908951769088  Good luck to @TheProgressives in Bulgaria toda..."
      ]
     },
     "execution_count": 13,
     "metadata": {},
     "output_type": "execute_result"
    }
   ],
   "source": [
    "df = pd.DataFrame(df)\n",
    "df.head(5)"
   ]
  },
  {
   "cell_type": "code",
   "execution_count": 14,
   "metadata": {},
   "outputs": [],
   "source": [
    "df.set_index('origTweetId', inplace=True)"
   ]
  },
  {
   "cell_type": "code",
   "execution_count": 15,
   "metadata": {},
   "outputs": [],
   "source": [
    "df1 = pd.merge(data, df, left_on='origTweetId', right_index=True, how='inner')"
   ]
  },
  {
   "cell_type": "code",
   "execution_count": 16,
   "metadata": {},
   "outputs": [
    {
     "data": {
      "text/html": [
       "<div>\n",
       "<style scoped>\n",
       "    .dataframe tbody tr th:only-of-type {\n",
       "        vertical-align: middle;\n",
       "    }\n",
       "\n",
       "    .dataframe tbody tr th {\n",
       "        vertical-align: top;\n",
       "    }\n",
       "\n",
       "    .dataframe thead th {\n",
       "        text-align: right;\n",
       "    }\n",
       "</style>\n",
       "<table border=\"1\" class=\"dataframe\">\n",
       "  <thead>\n",
       "    <tr style=\"text-align: right;\">\n",
       "      <th></th>\n",
       "      <th>origUserId</th>\n",
       "      <th>origUserScreenName</th>\n",
       "      <th>origMepId</th>\n",
       "      <th>origMepName</th>\n",
       "      <th>origMepGroupId</th>\n",
       "      <th>origMepGroupShort</th>\n",
       "      <th>origMepCountryId</th>\n",
       "      <th>origMepCountryShort</th>\n",
       "      <th>retweetUserId</th>\n",
       "      <th>retweetUserScreenName</th>\n",
       "      <th>...</th>\n",
       "      <th>retweetMepGroupId</th>\n",
       "      <th>retweetMepGroupShort</th>\n",
       "      <th>retweetMepCountryId</th>\n",
       "      <th>retweetMepCountryShort</th>\n",
       "      <th>origCreatedAt</th>\n",
       "      <th>origTweetId</th>\n",
       "      <th>retweetCreatedAt</th>\n",
       "      <th>retweetTweetId</th>\n",
       "      <th>lang</th>\n",
       "      <th>tweet</th>\n",
       "    </tr>\n",
       "  </thead>\n",
       "  <tbody>\n",
       "    <tr>\n",
       "      <th>3</th>\n",
       "      <td>19017675</td>\n",
       "      <td>Nigel_Farage</td>\n",
       "      <td>4525</td>\n",
       "      <td>Nigel FARAGE</td>\n",
       "      <td>6</td>\n",
       "      <td>EFDD</td>\n",
       "      <td>27</td>\n",
       "      <td>GBR</td>\n",
       "      <td>121171051</td>\n",
       "      <td>MargotLJParker</td>\n",
       "      <td>...</td>\n",
       "      <td>6</td>\n",
       "      <td>EFDD</td>\n",
       "      <td>27</td>\n",
       "      <td>GBR</td>\n",
       "      <td>Wed Jul 04 11:05:03 +0000 2012</td>\n",
       "      <td>220473289259233285</td>\n",
       "      <td>Sun Dec 07 21:46:00 +0000 2014</td>\n",
       "      <td>541710240014942209</td>\n",
       "      <td>en</td>\n",
       "      <td>Euro Parliament votes overwhelmingly to reject...</td>\n",
       "    </tr>\n",
       "    <tr>\n",
       "      <th>5</th>\n",
       "      <td>17675072</td>\n",
       "      <td>MartinSchulz</td>\n",
       "      <td>1911</td>\n",
       "      <td>Martin SCHULZ</td>\n",
       "      <td>1</td>\n",
       "      <td>S&amp;D</td>\n",
       "      <td>10</td>\n",
       "      <td>DEU</td>\n",
       "      <td>1668992125</td>\n",
       "      <td>NathanGillMEP</td>\n",
       "      <td>...</td>\n",
       "      <td>6</td>\n",
       "      <td>EFDD</td>\n",
       "      <td>27</td>\n",
       "      <td>GBR</td>\n",
       "      <td>Fri Jul 05 08:00:23 +0000 2013</td>\n",
       "      <td>353060776707235841</td>\n",
       "      <td>Thu Jun 18 08:52:51 +0000 2015</td>\n",
       "      <td>611456527409524736</td>\n",
       "      <td>en</td>\n",
       "      <td>US have one currency, one Central Bank and one...</td>\n",
       "    </tr>\n",
       "    <tr>\n",
       "      <th>11</th>\n",
       "      <td>17675072</td>\n",
       "      <td>MartinSchulz</td>\n",
       "      <td>1911</td>\n",
       "      <td>Martin SCHULZ</td>\n",
       "      <td>1</td>\n",
       "      <td>S&amp;D</td>\n",
       "      <td>10</td>\n",
       "      <td>DEU</td>\n",
       "      <td>21648649</td>\n",
       "      <td>maritaulvskog</td>\n",
       "      <td>...</td>\n",
       "      <td>1</td>\n",
       "      <td>S&amp;D</td>\n",
       "      <td>26</td>\n",
       "      <td>SWE</td>\n",
       "      <td>Sat May 17 12:47:17 +0000 2014</td>\n",
       "      <td>467647542378123264</td>\n",
       "      <td>Wed Sep 16 09:15:06 +0000 2015</td>\n",
       "      <td>644077036022165504</td>\n",
       "      <td>en</td>\n",
       "      <td>More jobs for young people is my top priority ...</td>\n",
       "    </tr>\n",
       "    <tr>\n",
       "      <th>12</th>\n",
       "      <td>744743599</td>\n",
       "      <td>Tim_Aker</td>\n",
       "      <td>99650</td>\n",
       "      <td>Tim AKER</td>\n",
       "      <td>6</td>\n",
       "      <td>EFDD</td>\n",
       "      <td>27</td>\n",
       "      <td>GBR</td>\n",
       "      <td>121171051</td>\n",
       "      <td>MargotLJParker</td>\n",
       "      <td>...</td>\n",
       "      <td>6</td>\n",
       "      <td>EFDD</td>\n",
       "      <td>27</td>\n",
       "      <td>GBR</td>\n",
       "      <td>Wed May 28 16:47:44 +0000 2014</td>\n",
       "      <td>471694322472353793</td>\n",
       "      <td>Thu Dec 04 22:21:10 +0000 2014</td>\n",
       "      <td>540631925145493504</td>\n",
       "      <td>en</td>\n",
       "      <td>Vote #Labour, get Tory. Vote Tory, get Labour....</td>\n",
       "    </tr>\n",
       "    <tr>\n",
       "      <th>13</th>\n",
       "      <td>744743599</td>\n",
       "      <td>Tim_Aker</td>\n",
       "      <td>99650</td>\n",
       "      <td>Tim AKER</td>\n",
       "      <td>6</td>\n",
       "      <td>EFDD</td>\n",
       "      <td>27</td>\n",
       "      <td>GBR</td>\n",
       "      <td>19017675</td>\n",
       "      <td>Nigel_Farage</td>\n",
       "      <td>...</td>\n",
       "      <td>6</td>\n",
       "      <td>EFDD</td>\n",
       "      <td>27</td>\n",
       "      <td>GBR</td>\n",
       "      <td>Wed May 28 16:47:44 +0000 2014</td>\n",
       "      <td>471694322472353793</td>\n",
       "      <td>Sun Mar 29 18:53:32 +0000 2015</td>\n",
       "      <td>582254277122473984</td>\n",
       "      <td>en</td>\n",
       "      <td>Vote #Labour, get Tory. Vote Tory, get Labour....</td>\n",
       "    </tr>\n",
       "  </tbody>\n",
       "</table>\n",
       "<p>5 rows × 22 columns</p>\n",
       "</div>"
      ],
      "text/plain": [
       "    origUserId origUserScreenName  origMepId    origMepName  origMepGroupId  \\\n",
       "3     19017675       Nigel_Farage       4525   Nigel FARAGE               6   \n",
       "5     17675072       MartinSchulz       1911  Martin SCHULZ               1   \n",
       "11    17675072       MartinSchulz       1911  Martin SCHULZ               1   \n",
       "12   744743599           Tim_Aker      99650       Tim AKER               6   \n",
       "13   744743599           Tim_Aker      99650       Tim AKER               6   \n",
       "\n",
       "   origMepGroupShort  origMepCountryId origMepCountryShort  retweetUserId  \\\n",
       "3               EFDD                27                 GBR      121171051   \n",
       "5                S&D                10                 DEU     1668992125   \n",
       "11               S&D                10                 DEU       21648649   \n",
       "12              EFDD                27                 GBR      121171051   \n",
       "13              EFDD                27                 GBR       19017675   \n",
       "\n",
       "   retweetUserScreenName  ...  retweetMepGroupId retweetMepGroupShort  \\\n",
       "3         MargotLJParker  ...                  6                 EFDD   \n",
       "5          NathanGillMEP  ...                  6                 EFDD   \n",
       "11         maritaulvskog  ...                  1                  S&D   \n",
       "12        MargotLJParker  ...                  6                 EFDD   \n",
       "13          Nigel_Farage  ...                  6                 EFDD   \n",
       "\n",
       "    retweetMepCountryId retweetMepCountryShort  \\\n",
       "3                    27                    GBR   \n",
       "5                    27                    GBR   \n",
       "11                   26                    SWE   \n",
       "12                   27                    GBR   \n",
       "13                   27                    GBR   \n",
       "\n",
       "                     origCreatedAt         origTweetId  \\\n",
       "3   Wed Jul 04 11:05:03 +0000 2012  220473289259233285   \n",
       "5   Fri Jul 05 08:00:23 +0000 2013  353060776707235841   \n",
       "11  Sat May 17 12:47:17 +0000 2014  467647542378123264   \n",
       "12  Wed May 28 16:47:44 +0000 2014  471694322472353793   \n",
       "13  Wed May 28 16:47:44 +0000 2014  471694322472353793   \n",
       "\n",
       "                  retweetCreatedAt      retweetTweetId lang  \\\n",
       "3   Sun Dec 07 21:46:00 +0000 2014  541710240014942209   en   \n",
       "5   Thu Jun 18 08:52:51 +0000 2015  611456527409524736   en   \n",
       "11  Wed Sep 16 09:15:06 +0000 2015  644077036022165504   en   \n",
       "12  Thu Dec 04 22:21:10 +0000 2014  540631925145493504   en   \n",
       "13  Sun Mar 29 18:53:32 +0000 2015  582254277122473984   en   \n",
       "\n",
       "                                                tweet  \n",
       "3   Euro Parliament votes overwhelmingly to reject...  \n",
       "5   US have one currency, one Central Bank and one...  \n",
       "11  More jobs for young people is my top priority ...  \n",
       "12  Vote #Labour, get Tory. Vote Tory, get Labour....  \n",
       "13  Vote #Labour, get Tory. Vote Tory, get Labour....  \n",
       "\n",
       "[5 rows x 22 columns]"
      ]
     },
     "execution_count": 16,
     "metadata": {},
     "output_type": "execute_result"
    }
   ],
   "source": [
    "df1.head(5)"
   ]
  },
  {
   "cell_type": "code",
   "execution_count": 17,
   "metadata": {},
   "outputs": [
    {
     "name": "stdout",
     "output_type": "stream",
     "text": [
      "number of unique values in col 'tweet' 10165\n",
      "number of unique values in col 'origTweetId' 10167\n"
     ]
    }
   ],
   "source": [
    "print(\"number of unique values in col 'tweet' %d\" %  df1['tweet'].nunique())\n",
    "print(\"number of unique values in col 'origTweetId' %d\" %  df1['origTweetId'].nunique())"
   ]
  },
  {
   "cell_type": "code",
   "execution_count": 18,
   "metadata": {},
   "outputs": [],
   "source": [
    "#remove duplicates\n",
    "df1 = df1.drop_duplicates(subset='tweet', keep=\"last\")"
   ]
  },
  {
   "cell_type": "code",
   "execution_count": 19,
   "metadata": {},
   "outputs": [
    {
     "name": "stdout",
     "output_type": "stream",
     "text": [
      "number of unique values in col 'tweet' 10165\n",
      "number of unique values in col 'origTweetId' 10165\n"
     ]
    }
   ],
   "source": [
    "print(\"number of unique values in col 'tweet' %d\" %  df1['tweet'].nunique())\n",
    "print(\"number of unique values in col 'origTweetId' %d\" %  df1['origTweetId'].nunique())"
   ]
  },
  {
   "cell_type": "code",
   "execution_count": 20,
   "metadata": {},
   "outputs": [],
   "source": [
    "#save the dataset for later preprocessing\n",
    "df1.to_csv('alltweets.csv', index = None, header=True)"
   ]
  },
  {
   "cell_type": "code",
   "execution_count": 21,
   "metadata": {},
   "outputs": [],
   "source": [
    "data=pd.read_csv('alltweets.csv', delimiter = ',')"
   ]
  },
  {
   "cell_type": "code",
   "execution_count": 22,
   "metadata": {},
   "outputs": [
    {
     "data": {
      "text/plain": [
       "origMepGroupShort\n",
       "ALDE          1457\n",
       "ECR            966\n",
       "EFDD          2418\n",
       "ENL             21\n",
       "EPP           1638\n",
       "GUE-NGL        304\n",
       "Greens-EFA     953\n",
       "NI               1\n",
       "S&D           2407\n",
       "dtype: int64"
      ]
     },
     "execution_count": 22,
     "metadata": {},
     "output_type": "execute_result"
    }
   ],
   "source": [
    "df1=data.groupby('origMepGroupShort').size()\n",
    "df1"
   ]
  },
  {
   "cell_type": "markdown",
   "metadata": {},
   "source": [
    "There are two groups with less than 50 tweets, **ENL** & **NI**,hence we are removig them"
   ]
  },
  {
   "cell_type": "code",
   "execution_count": 23,
   "metadata": {},
   "outputs": [],
   "source": [
    "#drop groups with very few tweets (less than 50)\n",
    "data = data[data.origMepGroupShort != 'ENL']\n",
    "data = data[data.origMepGroupShort != 'NI']\n",
    "data.to_csv('alldata.csv', index = None, header=True)"
   ]
  },
  {
   "cell_type": "markdown",
   "metadata": {},
   "source": [
    "## EXPLONATORY DATA ANALYSIS- CLEANING"
   ]
  },
  {
   "cell_type": "markdown",
   "metadata": {},
   "source": [
    "We are going to make some extra cleaning of the tweets."
   ]
  },
  {
   "cell_type": "code",
   "execution_count": 24,
   "metadata": {},
   "outputs": [],
   "source": [
    "data = pd.read_csv('alldata.csv', delimiter = ',')"
   ]
  },
  {
   "cell_type": "code",
   "execution_count": 25,
   "metadata": {},
   "outputs": [],
   "source": [
    "df = data[['tweet', 'origMepGroupShort']]"
   ]
  },
  {
   "cell_type": "markdown",
   "metadata": {},
   "source": [
    "#### What hashtags are being used the most?\n",
    "\n",
    "First, lets use a function  in a way that we can extract the hashtags and not remove them!\n",
    "Let's first create a wordcloud of the most commonly used hashtags! This requires us to put the word list as a single string separated by spaces. The algorithm then counts the number of times each term appears and makes the words bigger/bolder commensurate to their frequency!"
   ]
  },
  {
   "cell_type": "code",
   "execution_count": 26,
   "metadata": {},
   "outputs": [
    {
     "name": "stderr",
     "output_type": "stream",
     "text": [
      "c:\\users\\brikena kokalari\\appdata\\local\\programs\\python\\python36\\lib\\site-packages\\ipykernel_launcher.py:12: SettingWithCopyWarning: \n",
      "A value is trying to be set on a copy of a slice from a DataFrame.\n",
      "Try using .loc[row_indexer,col_indexer] = value instead\n",
      "\n",
      "See the caveats in the documentation: http://pandas.pydata.org/pandas-docs/stable/indexing.html#indexing-view-versus-copy\n",
      "  if sys.path[0] == '':\n"
     ]
    },
    {
     "data": {
      "text/plain": [
       "0              [#ACTA]\n",
       "1                  [0]\n",
       "2            [#EP2014]\n",
       "3    [#Labour,, #UKIP]\n",
       "4                  [0]\n",
       "5       [#opportunist]\n",
       "6        [#UKIP, #NHS]\n",
       "7    [#AskTeamJuncker]\n",
       "8         [#Migration]\n",
       "9                  [0]\n",
       "Name: tweet_hashtags, dtype: object"
      ]
     },
     "execution_count": 26,
     "metadata": {},
     "output_type": "execute_result"
    }
   ],
   "source": [
    "# in case hashtags are not found, we will use \"0\" as the placeholder\n",
    "def extract_hashtags(tweet):\n",
    "    '''Provide a tweet and extract hashtags from it'''\n",
    "    hashtags_only = []\n",
    "    if len(re.findall(\"(#[^#\\s]+)\", tweet)) > 0:\n",
    "        hashtags_only.append(re.findall(\"(#[^#\\s]+)\", tweet))\n",
    "    else:\n",
    "        hashtags_only.append([\"0\"])\n",
    "    return hashtags_only[0]\n",
    "\n",
    "# make a new column to store the extracted hashtags and view them!\n",
    "df['tweet_hashtags'] = df['tweet'].map(extract_hashtags)\n",
    "df['tweet_hashtags'].head(10)"
   ]
  },
  {
   "cell_type": "markdown",
   "metadata": {},
   "source": [
    "Next we need to extract all unique hashtags from the hashtags column just created and take a value count on those!"
   ]
  },
  {
   "cell_type": "code",
   "execution_count": 27,
   "metadata": {},
   "outputs": [],
   "source": [
    "# create a list of all hashtags\n",
    "all_hashtags = df['tweet_hashtags'].tolist()\n",
    "\n",
    "# Next we observe that our all_hashtags is a list of lists...lets change that\n",
    "cleaned_hashtags = []\n",
    "for i in all_hashtags:\n",
    "    for j in i:\n",
    "            cleaned_hashtags.append(j)\n",
    "\n",
    "# Convert cleaned_hashtags to a series and count the most frequent occuring\n",
    "cleaned_hashtag_series = pd.Series(cleaned_hashtags)\n",
    "hashtag_counts = cleaned_hashtag_series.value_counts()"
   ]
  },
  {
   "cell_type": "code",
   "execution_count": 28,
   "metadata": {},
   "outputs": [
    {
     "data": {
      "image/png": "[encoded data removed]",
      "text/plain": [
       "<Figure size 1440x720 with 1 Axes>"
      ]
     },
     "metadata": {
      "needs_background": "light"
     },
     "output_type": "display_data"
    }
   ],
   "source": [
    "# Get hashtag terms from the series and convert to list\n",
    "hashes = cleaned_hashtag_series.values\n",
    "hashes = hashes.tolist()\n",
    "\n",
    "# convert list to one string with all the words\n",
    "hashes_words = \" \".join(hashes)\n",
    "\n",
    "# generate the wordcloud. the max_words argument controls the number of words on the cloud\n",
    "from wordcloud import WordCloud\n",
    "wordcloud = WordCloud(width= 1600, height = 800, \n",
    "                      relative_scaling = 1.0, \n",
    "                      colormap = \"Blues\",\n",
    "                     max_words = 100).generate(hashes_words)\n",
    "\n",
    "plt.figure(figsize=(20,10))\n",
    "plt.imshow(wordcloud)\n",
    "plt.axis(\"off\")\n",
    "plt.tight_layout(pad=0)\n",
    "plt.show()"
   ]
  },
  {
   "cell_type": "code",
   "execution_count": 29,
   "metadata": {},
   "outputs": [
    {
     "data": {
      "text/html": [
       "<div>\n",
       "<style scoped>\n",
       "    .dataframe tbody tr th:only-of-type {\n",
       "        vertical-align: middle;\n",
       "    }\n",
       "\n",
       "    .dataframe tbody tr th {\n",
       "        vertical-align: top;\n",
       "    }\n",
       "\n",
       "    .dataframe thead th {\n",
       "        text-align: right;\n",
       "    }\n",
       "</style>\n",
       "<table border=\"1\" class=\"dataframe\">\n",
       "  <thead>\n",
       "    <tr style=\"text-align: right;\">\n",
       "      <th></th>\n",
       "      <th>tweet</th>\n",
       "      <th>origMepGroupShort</th>\n",
       "    </tr>\n",
       "  </thead>\n",
       "  <tbody>\n",
       "    <tr>\n",
       "      <th>0</th>\n",
       "      <td>Euro Parliament votes overwhelmingly to reject...</td>\n",
       "      <td>EFDD</td>\n",
       "    </tr>\n",
       "    <tr>\n",
       "      <th>1</th>\n",
       "      <td>US have one currency, one Central Bank and one...</td>\n",
       "      <td>S&amp;D</td>\n",
       "    </tr>\n",
       "    <tr>\n",
       "      <th>2</th>\n",
       "      <td>More jobs for young people is my top priority ...</td>\n",
       "      <td>S&amp;D</td>\n",
       "    </tr>\n",
       "    <tr>\n",
       "      <th>3</th>\n",
       "      <td>Vote #Labour, get Tory. Vote Tory, get Labour....</td>\n",
       "      <td>EFDD</td>\n",
       "    </tr>\n",
       "    <tr>\n",
       "      <th>4</th>\n",
       "      <td>Answering my question in ECR Group J-C Juncker...</td>\n",
       "      <td>ECR</td>\n",
       "    </tr>\n",
       "    <tr>\n",
       "      <th>5</th>\n",
       "      <td>Robert Halfon raising issue of illegal travell...</td>\n",
       "      <td>EFDD</td>\n",
       "    </tr>\n",
       "    <tr>\n",
       "      <th>6</th>\n",
       "      <td>Ignore the Labour lies, this is where #UKIP st...</td>\n",
       "      <td>EFDD</td>\n",
       "    </tr>\n",
       "    <tr>\n",
       "      <th>7</th>\n",
       "      <td>Next week I'll be grilling EU Commissioner can...</td>\n",
       "      <td>ALDE</td>\n",
       "    </tr>\n",
       "    <tr>\n",
       "      <th>8</th>\n",
       "      <td>#Migration can be positive for the UK - only i...</td>\n",
       "      <td>EFDD</td>\n",
       "    </tr>\n",
       "    <tr>\n",
       "      <th>9</th>\n",
       "      <td>\"Vote UKIP, get Labour\" says Dave. Really...? ...</td>\n",
       "      <td>EFDD</td>\n",
       "    </tr>\n",
       "    <tr>\n",
       "      <th>10</th>\n",
       "      <td>good presentation of Jonathan Hill, ready to t...</td>\n",
       "      <td>EPP</td>\n",
       "    </tr>\n",
       "    <tr>\n",
       "      <th>11</th>\n",
       "      <td>Hungary is a shining model for other countries...</td>\n",
       "      <td>ALDE</td>\n",
       "    </tr>\n",
       "    <tr>\n",
       "      <th>12</th>\n",
       "      <td>Steven Woolfe's magisterial question to Lord H...</td>\n",
       "      <td>EFDD</td>\n",
       "    </tr>\n",
       "    <tr>\n",
       "      <th>13</th>\n",
       "      <td>#EPhearings2014 @BienkowskaEU 'lets put Europe...</td>\n",
       "      <td>S&amp;D</td>\n",
       "    </tr>\n",
       "    <tr>\n",
       "      <th>14</th>\n",
       "      <td>Bienkowska fluffed a simple question from @Ash...</td>\n",
       "      <td>ECR</td>\n",
       "    </tr>\n",
       "    <tr>\n",
       "      <th>15</th>\n",
       "      <td>#Bienkowska committed to fast and fully enforc...</td>\n",
       "      <td>EPP</td>\n",
       "    </tr>\n",
       "    <tr>\n",
       "      <th>16</th>\n",
       "      <td>Decision on Moscovici postponed #EPHearing2014...</td>\n",
       "      <td>EPP</td>\n",
       "    </tr>\n",
       "    <tr>\n",
       "      <th>17</th>\n",
       "      <td>Our @TheresaMEP asks #Bienkowska what she'll d...</td>\n",
       "      <td>S&amp;D</td>\n",
       "    </tr>\n",
       "    <tr>\n",
       "      <th>18</th>\n",
       "      <td>#Bienkowska: Trademark reform must be handled ...</td>\n",
       "      <td>EPP</td>\n",
       "    </tr>\n",
       "    <tr>\n",
       "      <th>19</th>\n",
       "      <td>#EU #budget: Member States need to stand by th...</td>\n",
       "      <td>EPP</td>\n",
       "    </tr>\n",
       "    <tr>\n",
       "      <th>20</th>\n",
       "      <td>My summary for #Bienkowska: competent. #EPhear...</td>\n",
       "      <td>EPP</td>\n",
       "    </tr>\n",
       "    <tr>\n",
       "      <th>21</th>\n",
       "      <td>Disappointed @BienkowskaEU didn't answer my qu...</td>\n",
       "      <td>S&amp;D</td>\n",
       "    </tr>\n",
       "    <tr>\n",
       "      <th>22</th>\n",
       "      <td>According to the papers I can eat a Bacon sarn...</td>\n",
       "      <td>EFDD</td>\n",
       "    </tr>\n",
       "    <tr>\n",
       "      <th>23</th>\n",
       "      <td>#Vestager: in particular markets like #energy ...</td>\n",
       "      <td>EPP</td>\n",
       "    </tr>\n",
       "    <tr>\n",
       "      <th>24</th>\n",
       "      <td>Concrete example @AnnelieseDodds @vestager on ...</td>\n",
       "      <td>S&amp;D</td>\n",
       "    </tr>\n",
       "    <tr>\n",
       "      <th>25</th>\n",
       "      <td>Letter I sent today with @MarietjeSchaake dema...</td>\n",
       "      <td>S&amp;D</td>\n",
       "    </tr>\n",
       "    <tr>\n",
       "      <th>26</th>\n",
       "      <td>.@AnaGomesMEP and I sent this letter on @NABEE...</td>\n",
       "      <td>ALDE</td>\n",
       "    </tr>\n",
       "    <tr>\n",
       "      <th>27</th>\n",
       "      <td>As EP does not provide coffee in meetings Comm...</td>\n",
       "      <td>EPP</td>\n",
       "    </tr>\n",
       "    <tr>\n",
       "      <th>28</th>\n",
       "      <td>#Vestager star Commissioner on key portfolio #...</td>\n",
       "      <td>ALDE</td>\n",
       "    </tr>\n",
       "    <tr>\n",
       "      <th>29</th>\n",
       "      <td>Great day supporting @JohnBickleyUKIP  with @N...</td>\n",
       "      <td>EFDD</td>\n",
       "    </tr>\n",
       "    <tr>\n",
       "      <th>...</th>\n",
       "      <td>...</td>\n",
       "      <td>...</td>\n",
       "    </tr>\n",
       "    <tr>\n",
       "      <th>10113</th>\n",
       "      <td>The so-called #LabourLeave fringe group opposi...</td>\n",
       "      <td>S&amp;D</td>\n",
       "    </tr>\n",
       "    <tr>\n",
       "      <th>10114</th>\n",
       "      <td>Hi @themichaelcaine I'm a huge fan and not a f...</td>\n",
       "      <td>ALDE</td>\n",
       "    </tr>\n",
       "    <tr>\n",
       "      <th>10115</th>\n",
       "      <td>I welcome @themichaelcaine's support for #Brex...</td>\n",
       "      <td>EFDD</td>\n",
       "    </tr>\n",
       "    <tr>\n",
       "      <th>10116</th>\n",
       "      <td>Great piece from @MaryCreaghMP on EU membershi...</td>\n",
       "      <td>S&amp;D</td>\n",
       "    </tr>\n",
       "    <tr>\n",
       "      <th>10117</th>\n",
       "      <td>On @BBCWorldatOne on the #migration crisis, Va...</td>\n",
       "      <td>S&amp;D</td>\n",
       "    </tr>\n",
       "    <tr>\n",
       "      <th>10118</th>\n",
       "      <td>#EUreferendum is going to be about working peo...</td>\n",
       "      <td>S&amp;D</td>\n",
       "    </tr>\n",
       "    <tr>\n",
       "      <th>10119</th>\n",
       "      <td>We have to be at table to deal with #TTIP: EU ...</td>\n",
       "      <td>S&amp;D</td>\n",
       "    </tr>\n",
       "    <tr>\n",
       "      <th>10120</th>\n",
       "      <td>There is a buzz &amp;amp; excitement in the air fo...</td>\n",
       "      <td>EFDD</td>\n",
       "    </tr>\n",
       "    <tr>\n",
       "      <th>10121</th>\n",
       "      <td>#MichaelCaine said this am that bureaucrats in...</td>\n",
       "      <td>S&amp;D</td>\n",
       "    </tr>\n",
       "    <tr>\n",
       "      <th>10122</th>\n",
       "      <td>Who says #auditing and #politics cannot be fun...</td>\n",
       "      <td>ALDE</td>\n",
       "    </tr>\n",
       "    <tr>\n",
       "      <th>10123</th>\n",
       "      <td>Another packed hse in Limerick  for the launch...</td>\n",
       "      <td>GUE-NGL</td>\n",
       "    </tr>\n",
       "    <tr>\n",
       "      <th>10124</th>\n",
       "      <td>Fantastic @EFDgroup public meeting with @JSeym...</td>\n",
       "      <td>EFDD</td>\n",
       "    </tr>\n",
       "    <tr>\n",
       "      <th>10125</th>\n",
       "      <td>@brianhayesMEP @EPPGroup @FineGael Will your c...</td>\n",
       "      <td>GUE-NGL</td>\n",
       "    </tr>\n",
       "    <tr>\n",
       "      <th>10126</th>\n",
       "      <td>https://t.co/Zl9U7K5ABB good article from my c...</td>\n",
       "      <td>S&amp;D</td>\n",
       "    </tr>\n",
       "    <tr>\n",
       "      <th>10127</th>\n",
       "      <td>Memo to Tories for Reform in EU: Never mind th...</td>\n",
       "      <td>EFDD</td>\n",
       "    </tr>\n",
       "    <tr>\n",
       "      <th>10128</th>\n",
       "      <td>Great to be out meeting people in Wellingborou...</td>\n",
       "      <td>EFDD</td>\n",
       "    </tr>\n",
       "    <tr>\n",
       "      <th>10129</th>\n",
       "      <td>Tremendous enthusiasm out there to Leave the E...</td>\n",
       "      <td>EFDD</td>\n",
       "    </tr>\n",
       "    <tr>\n",
       "      <th>10130</th>\n",
       "      <td>My colleague @NirjDeva makes a highly valid po...</td>\n",
       "      <td>ECR</td>\n",
       "    </tr>\n",
       "    <tr>\n",
       "      <th>10131</th>\n",
       "      <td>Proud to sign @Grassroots_Out's Kettering Decl...</td>\n",
       "      <td>EFDD</td>\n",
       "    </tr>\n",
       "    <tr>\n",
       "      <th>10132</th>\n",
       "      <td>Amazing support in Kettering for @Grassroots_O...</td>\n",
       "      <td>EFDD</td>\n",
       "    </tr>\n",
       "    <tr>\n",
       "      <th>10133</th>\n",
       "      <td>@UKIP West Mids. conference - 20th Feb, Wolver...</td>\n",
       "      <td>EFDD</td>\n",
       "    </tr>\n",
       "    <tr>\n",
       "      <th>10134</th>\n",
       "      <td>Signal that the Dublin Convention is now over ...</td>\n",
       "      <td>EFDD</td>\n",
       "    </tr>\n",
       "    <tr>\n",
       "      <th>10135</th>\n",
       "      <td>How long can the Calais scandal go on? - Jerem...</td>\n",
       "      <td>S&amp;D</td>\n",
       "    </tr>\n",
       "    <tr>\n",
       "      <th>10136</th>\n",
       "      <td>Yesterday's @Grassroots_Out event important fo...</td>\n",
       "      <td>EFDD</td>\n",
       "    </tr>\n",
       "    <tr>\n",
       "      <th>10137</th>\n",
       "      <td>I look forward to working with @LiamFoxMP, @Ka...</td>\n",
       "      <td>EFDD</td>\n",
       "    </tr>\n",
       "    <tr>\n",
       "      <th>10138</th>\n",
       "      <td>Time to lock EU leaders in a room to sort #ref...</td>\n",
       "      <td>ALDE</td>\n",
       "    </tr>\n",
       "    <tr>\n",
       "      <th>10139</th>\n",
       "      <td>Drastic drop in positive EU perception in Pola...</td>\n",
       "      <td>EPP</td>\n",
       "    </tr>\n",
       "    <tr>\n",
       "      <th>10140</th>\n",
       "      <td>I'm with @UKYP North West now in Knowsley - gr...</td>\n",
       "      <td>S&amp;D</td>\n",
       "    </tr>\n",
       "    <tr>\n",
       "      <th>10141</th>\n",
       "      <td>Listening to some fab ideas from young people ...</td>\n",
       "      <td>S&amp;D</td>\n",
       "    </tr>\n",
       "    <tr>\n",
       "      <th>10142</th>\n",
       "      <td>First, big banks, now big pharma. In whose int...</td>\n",
       "      <td>ECR</td>\n",
       "    </tr>\n",
       "  </tbody>\n",
       "</table>\n",
       "<p>10143 rows × 2 columns</p>\n",
       "</div>"
      ],
      "text/plain": [
       "                                                   tweet origMepGroupShort\n",
       "0      Euro Parliament votes overwhelmingly to reject...              EFDD\n",
       "1      US have one currency, one Central Bank and one...               S&D\n",
       "2      More jobs for young people is my top priority ...               S&D\n",
       "3      Vote #Labour, get Tory. Vote Tory, get Labour....              EFDD\n",
       "4      Answering my question in ECR Group J-C Juncker...               ECR\n",
       "5      Robert Halfon raising issue of illegal travell...              EFDD\n",
       "6      Ignore the Labour lies, this is where #UKIP st...              EFDD\n",
       "7      Next week I'll be grilling EU Commissioner can...              ALDE\n",
       "8      #Migration can be positive for the UK - only i...              EFDD\n",
       "9      \"Vote UKIP, get Labour\" says Dave. Really...? ...              EFDD\n",
       "10     good presentation of Jonathan Hill, ready to t...               EPP\n",
       "11     Hungary is a shining model for other countries...              ALDE\n",
       "12     Steven Woolfe's magisterial question to Lord H...              EFDD\n",
       "13     #EPhearings2014 @BienkowskaEU 'lets put Europe...               S&D\n",
       "14     Bienkowska fluffed a simple question from @Ash...               ECR\n",
       "15     #Bienkowska committed to fast and fully enforc...               EPP\n",
       "16     Decision on Moscovici postponed #EPHearing2014...               EPP\n",
       "17     Our @TheresaMEP asks #Bienkowska what she'll d...               S&D\n",
       "18     #Bienkowska: Trademark reform must be handled ...               EPP\n",
       "19     #EU #budget: Member States need to stand by th...               EPP\n",
       "20     My summary for #Bienkowska: competent. #EPhear...               EPP\n",
       "21     Disappointed @BienkowskaEU didn't answer my qu...               S&D\n",
       "22     According to the papers I can eat a Bacon sarn...              EFDD\n",
       "23     #Vestager: in particular markets like #energy ...               EPP\n",
       "24     Concrete example @AnnelieseDodds @vestager on ...               S&D\n",
       "25     Letter I sent today with @MarietjeSchaake dema...               S&D\n",
       "26     .@AnaGomesMEP and I sent this letter on @NABEE...              ALDE\n",
       "27     As EP does not provide coffee in meetings Comm...               EPP\n",
       "28     #Vestager star Commissioner on key portfolio #...              ALDE\n",
       "29     Great day supporting @JohnBickleyUKIP  with @N...              EFDD\n",
       "...                                                  ...               ...\n",
       "10113  The so-called #LabourLeave fringe group opposi...               S&D\n",
       "10114  Hi @themichaelcaine I'm a huge fan and not a f...              ALDE\n",
       "10115  I welcome @themichaelcaine's support for #Brex...              EFDD\n",
       "10116  Great piece from @MaryCreaghMP on EU membershi...               S&D\n",
       "10117  On @BBCWorldatOne on the #migration crisis, Va...               S&D\n",
       "10118  #EUreferendum is going to be about working peo...               S&D\n",
       "10119  We have to be at table to deal with #TTIP: EU ...               S&D\n",
       "10120  There is a buzz &amp; excitement in the air fo...              EFDD\n",
       "10121  #MichaelCaine said this am that bureaucrats in...               S&D\n",
       "10122  Who says #auditing and #politics cannot be fun...              ALDE\n",
       "10123  Another packed hse in Limerick  for the launch...           GUE-NGL\n",
       "10124  Fantastic @EFDgroup public meeting with @JSeym...              EFDD\n",
       "10125  @brianhayesMEP @EPPGroup @FineGael Will your c...           GUE-NGL\n",
       "10126  https://t.co/Zl9U7K5ABB good article from my c...               S&D\n",
       "10127  Memo to Tories for Reform in EU: Never mind th...              EFDD\n",
       "10128  Great to be out meeting people in Wellingborou...              EFDD\n",
       "10129  Tremendous enthusiasm out there to Leave the E...              EFDD\n",
       "10130  My colleague @NirjDeva makes a highly valid po...               ECR\n",
       "10131  Proud to sign @Grassroots_Out's Kettering Decl...              EFDD\n",
       "10132  Amazing support in Kettering for @Grassroots_O...              EFDD\n",
       "10133  @UKIP West Mids. conference - 20th Feb, Wolver...              EFDD\n",
       "10134  Signal that the Dublin Convention is now over ...              EFDD\n",
       "10135  How long can the Calais scandal go on? - Jerem...               S&D\n",
       "10136  Yesterday's @Grassroots_Out event important fo...              EFDD\n",
       "10137  I look forward to working with @LiamFoxMP, @Ka...              EFDD\n",
       "10138  Time to lock EU leaders in a room to sort #ref...              ALDE\n",
       "10139  Drastic drop in positive EU perception in Pola...               EPP\n",
       "10140  I'm with @UKYP North West now in Knowsley - gr...               S&D\n",
       "10141  Listening to some fab ideas from young people ...               S&D\n",
       "10142  First, big banks, now big pharma. In whose int...               ECR\n",
       "\n",
       "[10143 rows x 2 columns]"
      ]
     },
     "execution_count": 29,
     "metadata": {},
     "output_type": "execute_result"
    }
   ],
   "source": [
    "#delete the excta col of visualization\n",
    "del df['tweet_hashtags']\n",
    "df.head(5)"
   ]
  },
  {
   "cell_type": "markdown",
   "metadata": {},
   "source": [
    "Most text data will likely need some processing in order for the chosen machine learning algorithm to perform well. In this case each text document is a tweet and therefore will contain lots of characters that will not be meaningful to any machine learning algorithm. You can see below from just viewing the first few rows of the data that the tweets contain characters such as #, @ and punctuation marks.\n",
    "Text and document classification over social media, such as Twitter, Facebook, and so on is usually affected by the noisy nature (abbreviations, irregular forms) of the text corpora.That's why we are going to clean it."
   ]
  },
  {
   "cell_type": "code",
   "execution_count": 30,
   "metadata": {},
   "outputs": [
    {
     "data": {
      "text/plain": [
       "0        Euro Parliament votes overwhelmingly to reject...\n",
       "1        US have one currency, one Central Bank and one...\n",
       "2        More jobs for young people is my top priority ...\n",
       "3        Vote #Labour, get Tory. Vote Tory, get Labour....\n",
       "4        Answering my question in ECR Group J-C Juncker...\n",
       "5        Robert Halfon raising issue of illegal travell...\n",
       "6        Ignore the Labour lies, this is where #UKIP st...\n",
       "7        Next week I'll be grilling EU Commissioner can...\n",
       "8        #Migration can be positive for the UK - only i...\n",
       "9        \"Vote UKIP, get Labour\" says Dave. Really...? ...\n",
       "10       good presentation of Jonathan Hill, ready to t...\n",
       "11       Hungary is a shining model for other countries...\n",
       "12       Steven Woolfe's magisterial question to Lord H...\n",
       "13       #EPhearings2014 @BienkowskaEU 'lets put Europe...\n",
       "14       Bienkowska fluffed a simple question from @Ash...\n",
       "15       #Bienkowska committed to fast and fully enforc...\n",
       "16       Decision on Moscovici postponed #EPHearing2014...\n",
       "17       Our @TheresaMEP asks #Bienkowska what she'll d...\n",
       "18       #Bienkowska: Trademark reform must be handled ...\n",
       "19       #EU #budget: Member States need to stand by th...\n",
       "20       My summary for #Bienkowska: competent. #EPhear...\n",
       "21       Disappointed @BienkowskaEU didn't answer my qu...\n",
       "22       According to the papers I can eat a Bacon sarn...\n",
       "23       #Vestager: in particular markets like #energy ...\n",
       "24       Concrete example @AnnelieseDodds @vestager on ...\n",
       "25       Letter I sent today with @MarietjeSchaake dema...\n",
       "26       .@AnaGomesMEP and I sent this letter on @NABEE...\n",
       "27       As EP does not provide coffee in meetings Comm...\n",
       "28       #Vestager star Commissioner on key portfolio #...\n",
       "29       Great day supporting @JohnBickleyUKIP  with @N...\n",
       "                               ...                        \n",
       "10113    The so-called #LabourLeave fringe group opposi...\n",
       "10114    Hi @themichaelcaine I'm a huge fan and not a f...\n",
       "10115    I welcome @themichaelcaine's support for #Brex...\n",
       "10116    Great piece from @MaryCreaghMP on EU membershi...\n",
       "10117    On @BBCWorldatOne on the #migration crisis, Va...\n",
       "10118    #EUreferendum is going to be about working peo...\n",
       "10119    We have to be at table to deal with #TTIP: EU ...\n",
       "10120    There is a buzz &amp; excitement in the air fo...\n",
       "10121    #MichaelCaine said this am that bureaucrats in...\n",
       "10122    Who says #auditing and #politics cannot be fun...\n",
       "10123    Another packed hse in Limerick  for the launch...\n",
       "10124    Fantastic @EFDgroup public meeting with @JSeym...\n",
       "10125    @brianhayesMEP @EPPGroup @FineGael Will your c...\n",
       "10126    https://t.co/Zl9U7K5ABB good article from my c...\n",
       "10127    Memo to Tories for Reform in EU: Never mind th...\n",
       "10128    Great to be out meeting people in Wellingborou...\n",
       "10129    Tremendous enthusiasm out there to Leave the E...\n",
       "10130    My colleague @NirjDeva makes a highly valid po...\n",
       "10131    Proud to sign @Grassroots_Out's Kettering Decl...\n",
       "10132    Amazing support in Kettering for @Grassroots_O...\n",
       "10133    @UKIP West Mids. conference - 20th Feb, Wolver...\n",
       "10134    Signal that the Dublin Convention is now over ...\n",
       "10135    How long can the Calais scandal go on? - Jerem...\n",
       "10136    Yesterday's @Grassroots_Out event important fo...\n",
       "10137    I look forward to working with @LiamFoxMP, @Ka...\n",
       "10138    Time to lock EU leaders in a room to sort #ref...\n",
       "10139    Drastic drop in positive EU perception in Pola...\n",
       "10140    I'm with @UKYP North West now in Knowsley - gr...\n",
       "10141    Listening to some fab ideas from young people ...\n",
       "10142    First, big banks, now big pharma. In whose int...\n",
       "Name: tweet, Length: 10143, dtype: object"
      ]
     },
     "execution_count": 30,
     "metadata": {},
     "output_type": "execute_result"
    }
   ],
   "source": [
    "#remove accents from values in columns\n",
    "df['tweet'].str.normalize('NFKD').str.encode('ascii', errors='ignore').str.decode('utf-8')"
   ]
  },
  {
   "cell_type": "code",
   "execution_count": 31,
   "metadata": {},
   "outputs": [
    {
     "name": "stderr",
     "output_type": "stream",
     "text": [
      "c:\\users\\brikena kokalari\\appdata\\local\\programs\\python\\python36\\lib\\site-packages\\ipykernel_launcher.py:3: SettingWithCopyWarning: \n",
      "A value is trying to be set on a copy of a slice from a DataFrame.\n",
      "Try using .loc[row_indexer,col_indexer] = value instead\n",
      "\n",
      "See the caveats in the documentation: http://pandas.pydata.org/pandas-docs/stable/indexing.html#indexing-view-versus-copy\n",
      "  This is separate from the ipykernel package so we can avoid doing imports until\n"
     ]
    },
    {
     "data": {
      "text/html": [
       "<div>\n",
       "<style scoped>\n",
       "    .dataframe tbody tr th:only-of-type {\n",
       "        vertical-align: middle;\n",
       "    }\n",
       "\n",
       "    .dataframe tbody tr th {\n",
       "        vertical-align: top;\n",
       "    }\n",
       "\n",
       "    .dataframe thead th {\n",
       "        text-align: right;\n",
       "    }\n",
       "</style>\n",
       "<table border=\"1\" class=\"dataframe\">\n",
       "  <thead>\n",
       "    <tr style=\"text-align: right;\">\n",
       "      <th></th>\n",
       "      <th>tweet</th>\n",
       "      <th>origMepGroupShort</th>\n",
       "    </tr>\n",
       "  </thead>\n",
       "  <tbody>\n",
       "    <tr>\n",
       "      <th>0</th>\n",
       "      <td>Euro Parliament votes overwhelmingly reject #A...</td>\n",
       "      <td>EFDD</td>\n",
       "    </tr>\n",
       "    <tr>\n",
       "      <th>1</th>\n",
       "      <td>US one currency, one Central Bank one Govt. Eu...</td>\n",
       "      <td>S&amp;D</td>\n",
       "    </tr>\n",
       "    <tr>\n",
       "      <th>2</th>\n",
       "      <td>More jobs young people top priority EU @social...</td>\n",
       "      <td>S&amp;D</td>\n",
       "    </tr>\n",
       "    <tr>\n",
       "      <th>3</th>\n",
       "      <td>Vote #Labour, get Tory. Vote Tory, get Labour....</td>\n",
       "      <td>EFDD</td>\n",
       "    </tr>\n",
       "    <tr>\n",
       "      <th>4</th>\n",
       "      <td>Answering question ECR Group J-C Juncker confi...</td>\n",
       "      <td>ECR</td>\n",
       "    </tr>\n",
       "  </tbody>\n",
       "</table>\n",
       "</div>"
      ],
      "text/plain": [
       "                                               tweet origMepGroupShort\n",
       "0  Euro Parliament votes overwhelmingly reject #A...              EFDD\n",
       "1  US one currency, one Central Bank one Govt. Eu...               S&D\n",
       "2  More jobs young people top priority EU @social...               S&D\n",
       "3  Vote #Labour, get Tory. Vote Tory, get Labour....              EFDD\n",
       "4  Answering question ECR Group J-C Juncker confi...               ECR"
      ]
     },
     "execution_count": 31,
     "metadata": {},
     "output_type": "execute_result"
    }
   ],
   "source": [
    "#remove stopwords\n",
    "stop = stopwords.words('english')\n",
    "df['tweet'] = df['tweet'].apply(lambda x: ' '.join([item for item in x.split() if item not in stop]))\n",
    "df.head(5)"
   ]
  },
  {
   "cell_type": "code",
   "execution_count": 32,
   "metadata": {},
   "outputs": [
    {
     "name": "stdout",
     "output_type": "stream",
     "text": [
      "                                                   tweet origMepGroupShort\n",
      "0      Euro Parliament votes overwhelmingly reject #A...              EFDD\n",
      "1      US one currency, one Central Bank one Govt. Eu...               S&D\n",
      "2      More jobs young people top priority EU @social...               S&D\n",
      "3      Vote #Labour, get Tory. Vote Tory, get Labour....              EFDD\n",
      "4      Answering question ECR Group J-C Juncker confi...               ECR\n",
      "5      Robert Halfon raising issue illegal traveller ...              EFDD\n",
      "6                  Ignore Labour lies, #UKIP stands #NHS              EFDD\n",
      "7      Next week I'll grilling EU Commissioner candid...              ALDE\n",
      "8                #Migration positive UK - controlled! RT              EFDD\n",
      "9          \"Vote UKIP, get Labour\" says Dave. Really...?              EFDD\n",
      "10     good presentation Jonathan Hill, ready take al...               EPP\n",
      "11     Hungary shining model countries, says #Navracs...              ALDE\n",
      "12     Steven Woolfe's magisterial question Lord Hill...              EFDD\n",
      "13     #EPhearings2014 @BienkowskaEU 'lets put Europe...               S&D\n",
      "14     Bienkowska fluffed simple question @Ashleyfoxm...               ECR\n",
      "15     #Bienkowska committed fast fully enforce impor...               EPP\n",
      "16     Decision Moscovici postponed #EPHearing2014 #M...               EPP\n",
      "17     Our @TheresaMEP asks #Bienkowska she'll social...               S&D\n",
      "18     #Bienkowska: Trademark reform must handled fas...               EPP\n",
      "19     #EU #budget: Member States need stand financia...               EPP\n",
      "20     My summary #Bienkowska: competent. #EPhearings...               EPP\n",
      "21     Disappointed @BienkowskaEU answer question whe...               S&D\n",
      "22     According papers I eat Bacon sarnie, that's so...              EFDD\n",
      "23     #Vestager: particular markets like #energy &am...               EPP\n",
      "24     Concrete example @AnnelieseDodds @vestager ene...               S&D\n",
      "25     Letter I sent today @MarietjeSchaake demanding...               S&D\n",
      "26     .@AnaGomesMEP I sent letter @NABEELRAJAB expre...              ALDE\n",
      "27     As EP provide coffee meetings Commissioner des...               EPP\n",
      "28     #Vestager star Commissioner key portfolio #EPh...              ALDE\n",
      "29     Great day supporting @JohnBickleyUKIP @Nigel_F...              EFDD\n",
      "...                                                  ...               ...\n",
      "10113  The so-called #LabourLeave fringe group opposi...               S&D\n",
      "10114  Hi @themichaelcaine I'm huge fan faceless bure...              ALDE\n",
      "10115  I welcome @themichaelcaine's support #Brexit. ...              EFDD\n",
      "10116  Great piece @MaryCreaghMP EU membership critic...               S&D\n",
      "10117  On @BBCWorldatOne #migration crisis, Valls , D...               S&D\n",
      "10118  #EUreferendum going working people &amp; jobs ...               S&D\n",
      "10119  We table deal #TTIP: EU exit protect us global...               S&D\n",
      "10120  There buzz &amp; excitement air tomorrow's @Gr...              EFDD\n",
      "10121  #MichaelCaine said bureaucrats Brussels dictat...               S&D\n",
      "10122  Who says #auditing #politics cannot fun?! @EP_...              ALDE\n",
      "10123  Another packed hse Limerick launch brilliant r...           GUE-NGL\n",
      "10124  Fantastic @EFDgroup public meeting @JSeymourUK...              EFDD\n",
      "10125  @brianhayesMEP @EPPGroup @FineGael Will collea...           GUE-NGL\n",
      "10126  good article colleague @RCorbettMEP explaining...               S&D\n",
      "10127  Memo Tories Reform EU: Never mind economic ris...              EFDD\n",
      "10128  Great meeting people Wellingborough @peterbone...              EFDD\n",
      "10129  Tremendous enthusiasm Leave EU. Working togeth...              EFDD\n",
      "10130  My colleague @NirjDeva makes highly valid poin...               ECR\n",
      "10131  Proud sign @Grassroots_Out's Kettering Declara...              EFDD\n",
      "10132  Amazing support Kettering @Grassroots_Out. Gre...              EFDD\n",
      "10133  @UKIP West Mids. conference - 20th Feb, Wolver...              EFDD\n",
      "10134  Signal Dublin Convention says Britain fair gam...              EFDD\n",
      "10135  How long Calais scandal go on? - Jeremy Corbyn...               S&D\n",
      "10136  Yesterday's @Grassroots_Out event important be...              EFDD\n",
      "10137  I look forward working @LiamFoxMP, @KateHoeyMP...              EFDD\n",
      "10138  Time lock EU leaders room sort #refugeecrisis....              ALDE\n",
      "10139  Drastic drop positive EU perception Poland Eff...               EPP\n",
      "10140  I'm @UKYP North West Knowsley - great meet MYP...               S&D\n",
      "10141  Listening fab ideas young people across NW tac...               S&D\n",
      "10142  First, big banks, big pharma. In whose interes...               ECR\n",
      "\n",
      "[10143 rows x 2 columns]\n"
     ]
    },
    {
     "name": "stderr",
     "output_type": "stream",
     "text": [
      "c:\\users\\brikena kokalari\\appdata\\local\\programs\\python\\python36\\lib\\site-packages\\ipykernel_launcher.py:11: SettingWithCopyWarning: \n",
      "A value is trying to be set on a copy of a slice from a DataFrame.\n",
      "Try using .loc[row_indexer,col_indexer] = value instead\n",
      "\n",
      "See the caveats in the documentation: http://pandas.pydata.org/pandas-docs/stable/indexing.html#indexing-view-versus-copy\n",
      "  # This is added back by InteractiveShellApp.init_path()\n"
     ]
    }
   ],
   "source": [
    "# this method checks for links and removes these from the tweet provided!\n",
    "from urllib.parse import urlparse\n",
    "#https://stackoverflow.com/a/52455972\n",
    "def is_url(url):\n",
    "    try:\n",
    "        result = urlparse(url)\n",
    "        return all([result.scheme, result.netloc])\n",
    "    except ValueError:\n",
    "        return False\n",
    "\n",
    "df['tweet'] = [' '.join(y for y in x.split() if not is_url(y)) for x in df['tweet']]\n",
    "print (df)"
   ]
  },
  {
   "cell_type": "code",
   "execution_count": 33,
   "metadata": {},
   "outputs": [
    {
     "name": "stderr",
     "output_type": "stream",
     "text": [
      "c:\\users\\brikena kokalari\\appdata\\local\\programs\\python\\python36\\lib\\site-packages\\ipykernel_launcher.py:10: SettingWithCopyWarning: \n",
      "A value is trying to be set on a copy of a slice from a DataFrame.\n",
      "Try using .loc[row_indexer,col_indexer] = value instead\n",
      "\n",
      "See the caveats in the documentation: http://pandas.pydata.org/pandas-docs/stable/indexing.html#indexing-view-versus-copy\n",
      "  # Remove the CWD from sys.path while we load stuff.\n"
     ]
    }
   ],
   "source": [
    "def remove_extraneous(tweet):\n",
    "    '''Given a text, remove unnecessary characters from the beginning and the end'''\n",
    "    tweet = tweet.rstrip()\n",
    "    tweet = tweet.lstrip()\n",
    "    tweet = tweet.rstrip(\")\")\n",
    "    tweet = tweet.lstrip(\"(\")\n",
    "    tweet = re.sub(\"\\.\", \"\", tweet)\n",
    "    return tweet\n",
    "\n",
    "df['tweet'] = df['tweet'].map(remove_extraneous)"
   ]
  },
  {
   "cell_type": "markdown",
   "metadata": {},
   "source": [
    "*If we use the below code, we remove the whole mention from the tweet. By doing so, the accuracy decreases. This means that mention gives us more info about the content of the tweet. However, if remove only the **@** , we achive a better accuracy. \n",
    "\n",
    "**Below I am removing only the **@**."
   ]
  },
  {
   "cell_type": "code",
   "execution_count": 34,
   "metadata": {},
   "outputs": [],
   "source": [
    "# # Now lets remove the mentions from the tweet text\n",
    "# def remove_mentions(tweet):\n",
    "#     '''Given a text, remove the user mentions'''\n",
    "#     mentions = []\n",
    "#     if len(re.findall('@[^\\s@]+', tweet))>0:\n",
    "#         tweet = re.sub('@[^\\s@]+', \"\" , tweet)\n",
    "#         mentions.append(tweet)\n",
    "#     else:\n",
    "#         mentions.append(tweet)\n",
    "#     return mentions[0]\n",
    "\n",
    "# df['tweet'] = df['tweet'].map(remove_mentions)"
   ]
  },
  {
   "cell_type": "code",
   "execution_count": 35,
   "metadata": {},
   "outputs": [
    {
     "name": "stderr",
     "output_type": "stream",
     "text": [
      "c:\\users\\brikena kokalari\\appdata\\local\\programs\\python\\python36\\lib\\site-packages\\ipykernel_launcher.py:2: SettingWithCopyWarning: \n",
      "A value is trying to be set on a copy of a slice from a DataFrame.\n",
      "Try using .loc[row_indexer,col_indexer] = value instead\n",
      "\n",
      "See the caveats in the documentation: http://pandas.pydata.org/pandas-docs/stable/indexing.html#indexing-view-versus-copy\n",
      "  \n"
     ]
    },
    {
     "data": {
      "text/html": [
       "<div>\n",
       "<style scoped>\n",
       "    .dataframe tbody tr th:only-of-type {\n",
       "        vertical-align: middle;\n",
       "    }\n",
       "\n",
       "    .dataframe tbody tr th {\n",
       "        vertical-align: top;\n",
       "    }\n",
       "\n",
       "    .dataframe thead th {\n",
       "        text-align: right;\n",
       "    }\n",
       "</style>\n",
       "<table border=\"1\" class=\"dataframe\">\n",
       "  <thead>\n",
       "    <tr style=\"text-align: right;\">\n",
       "      <th></th>\n",
       "      <th>tweet</th>\n",
       "      <th>origMepGroupShort</th>\n",
       "    </tr>\n",
       "  </thead>\n",
       "  <tbody>\n",
       "    <tr>\n",
       "      <th>0</th>\n",
       "      <td>Euro Parliament votes overwhelmingly reject #A...</td>\n",
       "      <td>EFDD</td>\n",
       "    </tr>\n",
       "    <tr>\n",
       "      <th>1</th>\n",
       "      <td>US one currency, one Central Bank one Govt Eur...</td>\n",
       "      <td>S&amp;D</td>\n",
       "    </tr>\n",
       "    <tr>\n",
       "      <th>2</th>\n",
       "      <td>More jobs young people top priority EU sociald...</td>\n",
       "      <td>S&amp;D</td>\n",
       "    </tr>\n",
       "    <tr>\n",
       "      <th>3</th>\n",
       "      <td>Vote #Labour, get Tory Vote Tory, get Labour V...</td>\n",
       "      <td>EFDD</td>\n",
       "    </tr>\n",
       "    <tr>\n",
       "      <th>4</th>\n",
       "      <td>Answering question ECR Group J-C Juncker confi...</td>\n",
       "      <td>ECR</td>\n",
       "    </tr>\n",
       "    <tr>\n",
       "      <th>5</th>\n",
       "      <td>Robert Halfon raising issue illegal traveller ...</td>\n",
       "      <td>EFDD</td>\n",
       "    </tr>\n",
       "    <tr>\n",
       "      <th>6</th>\n",
       "      <td>Ignore Labour lies, #UKIP stands #NHS</td>\n",
       "      <td>EFDD</td>\n",
       "    </tr>\n",
       "    <tr>\n",
       "      <th>7</th>\n",
       "      <td>Next week I'll grilling EU Commissioner candid...</td>\n",
       "      <td>ALDE</td>\n",
       "    </tr>\n",
       "    <tr>\n",
       "      <th>8</th>\n",
       "      <td>#Migration positive UK - controlled! RT</td>\n",
       "      <td>EFDD</td>\n",
       "    </tr>\n",
       "    <tr>\n",
       "      <th>9</th>\n",
       "      <td>\"Vote UKIP, get Labour\" says Dave Really?</td>\n",
       "      <td>EFDD</td>\n",
       "    </tr>\n",
       "  </tbody>\n",
       "</table>\n",
       "</div>"
      ],
      "text/plain": [
       "                                               tweet origMepGroupShort\n",
       "0  Euro Parliament votes overwhelmingly reject #A...              EFDD\n",
       "1  US one currency, one Central Bank one Govt Eur...               S&D\n",
       "2  More jobs young people top priority EU sociald...               S&D\n",
       "3  Vote #Labour, get Tory Vote Tory, get Labour V...              EFDD\n",
       "4  Answering question ECR Group J-C Juncker confi...               ECR\n",
       "5  Robert Halfon raising issue illegal traveller ...              EFDD\n",
       "6              Ignore Labour lies, #UKIP stands #NHS              EFDD\n",
       "7  Next week I'll grilling EU Commissioner candid...              ALDE\n",
       "8            #Migration positive UK - controlled! RT              EFDD\n",
       "9          \"Vote UKIP, get Labour\" says Dave Really?              EFDD"
      ]
     },
     "execution_count": 35,
     "metadata": {},
     "output_type": "execute_result"
    }
   ],
   "source": [
    "#remove only the \"@\"\n",
    "df['tweet']= df['tweet'].str.replace('@', '')\n",
    "df.head(10)"
   ]
  },
  {
   "cell_type": "code",
   "execution_count": 36,
   "metadata": {},
   "outputs": [
    {
     "name": "stderr",
     "output_type": "stream",
     "text": [
      "c:\\users\\brikena kokalari\\appdata\\local\\programs\\python\\python36\\lib\\site-packages\\ipykernel_launcher.py:2: SettingWithCopyWarning: \n",
      "A value is trying to be set on a copy of a slice from a DataFrame.\n",
      "Try using .loc[row_indexer,col_indexer] = value instead\n",
      "\n",
      "See the caveats in the documentation: http://pandas.pydata.org/pandas-docs/stable/indexing.html#indexing-view-versus-copy\n",
      "  \n"
     ]
    },
    {
     "data": {
      "text/html": [
       "<div>\n",
       "<style scoped>\n",
       "    .dataframe tbody tr th:only-of-type {\n",
       "        vertical-align: middle;\n",
       "    }\n",
       "\n",
       "    .dataframe tbody tr th {\n",
       "        vertical-align: top;\n",
       "    }\n",
       "\n",
       "    .dataframe thead th {\n",
       "        text-align: right;\n",
       "    }\n",
       "</style>\n",
       "<table border=\"1\" class=\"dataframe\">\n",
       "  <thead>\n",
       "    <tr style=\"text-align: right;\">\n",
       "      <th></th>\n",
       "      <th>tweet</th>\n",
       "      <th>origMepGroupShort</th>\n",
       "    </tr>\n",
       "  </thead>\n",
       "  <tbody>\n",
       "    <tr>\n",
       "      <th>0</th>\n",
       "      <td>Euro Parliament votes overwhelmingly reject AC...</td>\n",
       "      <td>EFDD</td>\n",
       "    </tr>\n",
       "    <tr>\n",
       "      <th>1</th>\n",
       "      <td>US one currency, one Central Bank one Govt Eur...</td>\n",
       "      <td>S&amp;D</td>\n",
       "    </tr>\n",
       "    <tr>\n",
       "      <th>2</th>\n",
       "      <td>More jobs young people top priority EU sociald...</td>\n",
       "      <td>S&amp;D</td>\n",
       "    </tr>\n",
       "    <tr>\n",
       "      <th>3</th>\n",
       "      <td>Vote Labour, get Tory Vote Tory, get Labour Vo...</td>\n",
       "      <td>EFDD</td>\n",
       "    </tr>\n",
       "    <tr>\n",
       "      <th>4</th>\n",
       "      <td>Answering question ECR Group J-C Juncker confi...</td>\n",
       "      <td>ECR</td>\n",
       "    </tr>\n",
       "    <tr>\n",
       "      <th>5</th>\n",
       "      <td>Robert Halfon raising issue illegal traveller ...</td>\n",
       "      <td>EFDD</td>\n",
       "    </tr>\n",
       "    <tr>\n",
       "      <th>6</th>\n",
       "      <td>Ignore Labour lies, UKIP stands NHS</td>\n",
       "      <td>EFDD</td>\n",
       "    </tr>\n",
       "    <tr>\n",
       "      <th>7</th>\n",
       "      <td>Next week I'll grilling EU Commissioner candid...</td>\n",
       "      <td>ALDE</td>\n",
       "    </tr>\n",
       "    <tr>\n",
       "      <th>8</th>\n",
       "      <td>Migration positive UK - controlled! RT</td>\n",
       "      <td>EFDD</td>\n",
       "    </tr>\n",
       "    <tr>\n",
       "      <th>9</th>\n",
       "      <td>\"Vote UKIP, get Labour\" says Dave Really?</td>\n",
       "      <td>EFDD</td>\n",
       "    </tr>\n",
       "  </tbody>\n",
       "</table>\n",
       "</div>"
      ],
      "text/plain": [
       "                                               tweet origMepGroupShort\n",
       "0  Euro Parliament votes overwhelmingly reject AC...              EFDD\n",
       "1  US one currency, one Central Bank one Govt Eur...               S&D\n",
       "2  More jobs young people top priority EU sociald...               S&D\n",
       "3  Vote Labour, get Tory Vote Tory, get Labour Vo...              EFDD\n",
       "4  Answering question ECR Group J-C Juncker confi...               ECR\n",
       "5  Robert Halfon raising issue illegal traveller ...              EFDD\n",
       "6                Ignore Labour lies, UKIP stands NHS              EFDD\n",
       "7  Next week I'll grilling EU Commissioner candid...              ALDE\n",
       "8             Migration positive UK - controlled! RT              EFDD\n",
       "9          \"Vote UKIP, get Labour\" says Dave Really?              EFDD"
      ]
     },
     "execution_count": 36,
     "metadata": {},
     "output_type": "execute_result"
    }
   ],
   "source": [
    "#remove hashtags #\n",
    "df['tweet']= df['tweet'].str.replace('#', '')\n",
    "df.head(10)"
   ]
  },
  {
   "cell_type": "code",
   "execution_count": 37,
   "metadata": {},
   "outputs": [
    {
     "name": "stderr",
     "output_type": "stream",
     "text": [
      "c:\\users\\brikena kokalari\\appdata\\local\\programs\\python\\python36\\lib\\site-packages\\ipykernel_launcher.py:2: SettingWithCopyWarning: \n",
      "A value is trying to be set on a copy of a slice from a DataFrame.\n",
      "Try using .loc[row_indexer,col_indexer] = value instead\n",
      "\n",
      "See the caveats in the documentation: http://pandas.pydata.org/pandas-docs/stable/indexing.html#indexing-view-versus-copy\n",
      "  \n"
     ]
    },
    {
     "data": {
      "text/html": [
       "<div>\n",
       "<style scoped>\n",
       "    .dataframe tbody tr th:only-of-type {\n",
       "        vertical-align: middle;\n",
       "    }\n",
       "\n",
       "    .dataframe tbody tr th {\n",
       "        vertical-align: top;\n",
       "    }\n",
       "\n",
       "    .dataframe thead th {\n",
       "        text-align: right;\n",
       "    }\n",
       "</style>\n",
       "<table border=\"1\" class=\"dataframe\">\n",
       "  <thead>\n",
       "    <tr style=\"text-align: right;\">\n",
       "      <th></th>\n",
       "      <th>tweet</th>\n",
       "      <th>origMepGroupShort</th>\n",
       "    </tr>\n",
       "  </thead>\n",
       "  <tbody>\n",
       "    <tr>\n",
       "      <th>0</th>\n",
       "      <td>Euro Parliament votes overwhelmingly reject AC...</td>\n",
       "      <td>EFDD</td>\n",
       "    </tr>\n",
       "    <tr>\n",
       "      <th>1</th>\n",
       "      <td>US one currency one Central Bank one Govt Euro...</td>\n",
       "      <td>S&amp;D</td>\n",
       "    </tr>\n",
       "    <tr>\n",
       "      <th>2</th>\n",
       "      <td>More jobs young people top priority EU sociald...</td>\n",
       "      <td>S&amp;D</td>\n",
       "    </tr>\n",
       "    <tr>\n",
       "      <th>3</th>\n",
       "      <td>Vote Labour get Tory Vote Tory get Labour Vote...</td>\n",
       "      <td>EFDD</td>\n",
       "    </tr>\n",
       "    <tr>\n",
       "      <th>4</th>\n",
       "      <td>Answering question ECR Group JC Juncker confir...</td>\n",
       "      <td>ECR</td>\n",
       "    </tr>\n",
       "    <tr>\n",
       "      <th>5</th>\n",
       "      <td>Robert Halfon raising issue illegal traveller ...</td>\n",
       "      <td>EFDD</td>\n",
       "    </tr>\n",
       "    <tr>\n",
       "      <th>6</th>\n",
       "      <td>Ignore Labour lies UKIP stands NHS</td>\n",
       "      <td>EFDD</td>\n",
       "    </tr>\n",
       "    <tr>\n",
       "      <th>7</th>\n",
       "      <td>Next week Ill grilling EU Commissioner candida...</td>\n",
       "      <td>ALDE</td>\n",
       "    </tr>\n",
       "    <tr>\n",
       "      <th>8</th>\n",
       "      <td>Migration positive UK  controlled RT</td>\n",
       "      <td>EFDD</td>\n",
       "    </tr>\n",
       "    <tr>\n",
       "      <th>9</th>\n",
       "      <td>Vote UKIP get Labour says Dave Really</td>\n",
       "      <td>EFDD</td>\n",
       "    </tr>\n",
       "  </tbody>\n",
       "</table>\n",
       "</div>"
      ],
      "text/plain": [
       "                                               tweet origMepGroupShort\n",
       "0  Euro Parliament votes overwhelmingly reject AC...              EFDD\n",
       "1  US one currency one Central Bank one Govt Euro...               S&D\n",
       "2  More jobs young people top priority EU sociald...               S&D\n",
       "3  Vote Labour get Tory Vote Tory get Labour Vote...              EFDD\n",
       "4  Answering question ECR Group JC Juncker confir...               ECR\n",
       "5  Robert Halfon raising issue illegal traveller ...              EFDD\n",
       "6                 Ignore Labour lies UKIP stands NHS              EFDD\n",
       "7  Next week Ill grilling EU Commissioner candida...              ALDE\n",
       "8               Migration positive UK  controlled RT              EFDD\n",
       "9              Vote UKIP get Labour says Dave Really              EFDD"
      ]
     },
     "execution_count": 37,
     "metadata": {},
     "output_type": "execute_result"
    }
   ],
   "source": [
    "#remove pancuations\n",
    "df[\"tweet\"] = df['tweet'].str.replace('[^\\w\\s]','')\n",
    "df.head(10)"
   ]
  },
  {
   "cell_type": "markdown",
   "metadata": {},
   "source": [
    "If both upper and lower case versions of the same word are found in the text then the algorithm will count them as different words even though the meaning is the same. Of course this does mean that where the capitalised versions of a word exists, that does have a different meaning. For example the company Apple vs the fruit apple. This could result in poorer performance for some data sets. This is one area of NLP where we may try different methods to see how they affect the overall performance of the model.However in this case ,we will use the most common approach, which is to reduce everything to lower case."
   ]
  },
  {
   "cell_type": "code",
   "execution_count": 38,
   "metadata": {},
   "outputs": [
    {
     "name": "stderr",
     "output_type": "stream",
     "text": [
      "c:\\users\\brikena kokalari\\appdata\\local\\programs\\python\\python36\\lib\\site-packages\\ipykernel_launcher.py:2: SettingWithCopyWarning: \n",
      "A value is trying to be set on a copy of a slice from a DataFrame.\n",
      "Try using .loc[row_indexer,col_indexer] = value instead\n",
      "\n",
      "See the caveats in the documentation: http://pandas.pydata.org/pandas-docs/stable/indexing.html#indexing-view-versus-copy\n",
      "  \n"
     ]
    }
   ],
   "source": [
    "#lower cases\n",
    "df['tweet']= df['tweet'].str.lower()"
   ]
  },
  {
   "cell_type": "code",
   "execution_count": 39,
   "metadata": {},
   "outputs": [],
   "source": [
    "df.to_csv('classificationdata.csv', index = None, header=True)"
   ]
  },
  {
   "cell_type": "markdown",
   "metadata": {},
   "source": [
    "# CLASSIFICATION "
   ]
  },
  {
   "cell_type": "markdown",
   "metadata": {},
   "source": [
    "\n",
    "\n",
    "* Train at least two algorithms to learn to classify an unseen tweet. The target variable should be the political party of the original poster and the training features should be the original tweet's text.\n",
    "\n",
    "* You should split your data to training and testing datasets, try the different algorithms with cross validation on the training dataset, and find the best hyperparameters for the best algorithm. \n",
    "\n",
    "* The tweet texts must be converted to a format suitable the classification, bag of word matrices or tf-idf matrices. You must investigate which one gives the best results. \n",
    "\n",
    "* You may want to strip accents, convert everything to lowercase, and remove all English stopwords. In general, you may experiment with additional ideas about how best to tokenize etc.\n",
    "\n",
    "* Report your scores; once you find the best algorithm and the best hyperparameters, report the score on the test data.\n",
    "\n",
    "* To gauge the efficacy of the algorithm, report also the results of a baseline classifier, using, for instance, scikit-learn's [`DummyClassifier`](https://scikit-learn.org/stable/modules/generated/sklearn.dummy.DummyClassifier.html)."
   ]
  },
  {
   "cell_type": "code",
   "execution_count": 40,
   "metadata": {},
   "outputs": [],
   "source": [
    "df = pd.read_csv('classificationdata.csv', delimiter = ',')\n"
   ]
  },
  {
   "cell_type": "markdown",
   "metadata": {},
   "source": [
    "Let's have some insight of the data. The below bar chat shows the frequency of each political party."
   ]
  },
  {
   "cell_type": "code",
   "execution_count": 41,
   "metadata": {},
   "outputs": [
    {
     "data": {
      "image/png": "[encoded data removed]",
      "text/plain": [
       "<Figure size 576x432 with 1 Axes>"
      ]
     },
     "metadata": {
      "needs_background": "light"
     },
     "output_type": "display_data"
    }
   ],
   "source": [
    "fig = plt.figure(figsize=(8,6))\n",
    "df.groupby('origMepGroupShort').tweet.count().plot.bar(ylim=0)\n",
    "plt.show()"
   ]
  },
  {
   "cell_type": "markdown",
   "metadata": {},
   "source": [
    "# Training"
   ]
  },
  {
   "cell_type": "markdown",
   "metadata": {},
   "source": [
    "Machines are not capable of reading text in the same way as humans do. In order for a machine learning algorithm to determine patterns in text it must first be converted into a numeric structure. One of the most common techniques for this is called Bag of Words, or BoW.\n",
    "\n",
    "A BoW model splits the words in a piece of text into tokens disregarding grammar and word order. The model also counts the frequency in which a word occurs in the text, and assigns a weight proportional to this frequency. The output is a matrix of term frequencies where each row represents the text and each column a word in the vocabulary.\n",
    "\n",
    "Sci-kit learn has a number of built in functions to perform this type of modelling. But for this walkthrough I am going to be using one of the most simple functions which is CountVectoriser. This function works quite well with the default settings so I will use those for the first iteration of my model.\n",
    "\n",
    "BoW model which we are using to process the text has three steps. CountVectoriser accomplishes the first two, splitting the words into tokens and counting the frequency. We will use another scikit-learn function as well, called TfidfTransformer to apply the frequency weighting.\n"
   ]
  },
  {
   "cell_type": "code",
   "execution_count": 42,
   "metadata": {},
   "outputs": [],
   "source": [
    "X= df.tweet\n",
    "y = df.origMepGroupShort"
   ]
  },
  {
   "cell_type": "markdown",
   "metadata": {},
   "source": [
    "Before training the model I am splitting the training data into a training and test set."
   ]
  },
  {
   "cell_type": "code",
   "execution_count": 43,
   "metadata": {},
   "outputs": [],
   "source": [
    "#Splitting the dataset\n",
    "X_train,X_test,y_train,y_test = train_test_split(X,y, test_size=0.2, random_state=2,shuffle = True , stratify=y)"
   ]
  },
  {
   "cell_type": "markdown",
   "metadata": {},
   "source": [
    "Before we let our data to train we have to numerically represent the preprocessed data. The well-known techniques for vectorization of words in Natural Language Processing are: \n",
    "- CountVectorization\n",
    "- Tf-IDF transformation\n",
    "- Chosen classifier\n",
    "\n",
    "For simplicity and reproducibility I am going to use a sci-kit learn pipeline, which is a built-in function of scikit-learn to pre-define a workflow of algorithm, starting with a SGDClassifier. This saves much time and computational power.\n",
    "\n",
    "The below code creates a pipeline object that when used will apply each step to the data."
   ]
  },
  {
   "cell_type": "markdown",
   "metadata": {},
   "source": [
    "#### Stochstic Gradient Descent"
   ]
  },
  {
   "cell_type": "code",
   "execution_count": 44,
   "metadata": {},
   "outputs": [
    {
     "data": {
      "text/plain": [
       "0.6352883193691473"
      ]
     },
     "execution_count": 44,
     "metadata": {},
     "output_type": "execute_result"
    }
   ],
   "source": [
    "sdg_clf = Pipeline([('vect', CountVectorizer()),\n",
    "                    ('tfidf', TfidfTransformer()),\n",
    "                     ('sdg', SGDClassifier()),\n",
    "                    ])\n",
    "\n",
    "sdg_clf.fit(X_train, y_train)\n",
    "predicted = sdg_clf.predict(X_test)\n",
    "np.mean(predicted == y_test)\n"
   ]
  },
  {
   "cell_type": "code",
   "execution_count": 45,
   "metadata": {},
   "outputs": [
    {
     "name": "stdout",
     "output_type": "stream",
     "text": [
      "Mean of 5-fold cross validation for SGD:  59.19%\n"
     ]
    }
   ],
   "source": [
    "#cross validation\n",
    "scores = cross_val_score(sdg_clf, X, y, cv=5)\n",
    "s1 = scores.mean()\n",
    "s1\n",
    "print('Mean of 5-fold cross validation for SGD: ' , \"{:.2%}\".format(scores.mean()))"
   ]
  },
  {
   "cell_type": "markdown",
   "metadata": {},
   "source": [
    "#### Multinomial Naive Bayes Classifier"
   ]
  },
  {
   "cell_type": "code",
   "execution_count": 46,
   "metadata": {},
   "outputs": [
    {
     "data": {
      "text/plain": [
       "0.5524889107934944"
      ]
     },
     "execution_count": 46,
     "metadata": {},
     "output_type": "execute_result"
    }
   ],
   "source": [
    "mnb_clf = Pipeline([('vect', CountVectorizer()),\n",
    "                    ('tfidf', TfidfTransformer()),\n",
    "                     ('mnb', MultinomialNB()),\n",
    "                    ])\n",
    "\n",
    "mnb_clf.fit(X_train, y_train)\n",
    "predicted = mnb_clf.predict(X_test)\n",
    "np.mean(predicted == y_test)\n"
   ]
  },
  {
   "cell_type": "code",
   "execution_count": 47,
   "metadata": {},
   "outputs": [
    {
     "name": "stdout",
     "output_type": "stream",
     "text": [
      "Mean of 5-fold cross validation for Multinomial: 51.07%\n"
     ]
    }
   ],
   "source": [
    "#cross validation\n",
    "scores = cross_val_score(mnb_clf, X, y, cv=5)\n",
    "s2 = scores.mean()\n",
    "s2\n",
    "print('Mean of 5-fold cross validation for Multinomial:' , \"{:.2%}\".format(scores.mean()))"
   ]
  },
  {
   "cell_type": "markdown",
   "metadata": {},
   "source": [
    "#### Suppert Vector Classification"
   ]
  },
  {
   "cell_type": "code",
   "execution_count": 48,
   "metadata": {},
   "outputs": [
    {
     "data": {
      "text/plain": [
       "0.6274026614095614"
      ]
     },
     "execution_count": 48,
     "metadata": {},
     "output_type": "execute_result"
    }
   ],
   "source": [
    "svc_clf = Pipeline([('vect', CountVectorizer()),\n",
    "                    ('tfidf', TfidfTransformer()),\n",
    "                     ('scv', SVC(kernel='linear')),\n",
    "                    ])\n",
    "\n",
    "svc_clf.fit(X_train, y_train)\n",
    "predicted = svc_clf.predict(X_test)\n",
    "np.mean(predicted == y_test)\n"
   ]
  },
  {
   "cell_type": "code",
   "execution_count": 49,
   "metadata": {},
   "outputs": [
    {
     "name": "stdout",
     "output_type": "stream",
     "text": [
      "Mean of 5-fold cross validation for SVC regression:  57.59%\n"
     ]
    }
   ],
   "source": [
    "#cross validation\n",
    "scores = cross_val_score(svc_clf, X, y, cv=5)\n",
    "s3 = scores.mean()\n",
    "s3\n",
    "print('Mean of 5-fold cross validation for SVC regression: ' , \"{:.2%}\".format(scores.mean())) #47"
   ]
  },
  {
   "cell_type": "markdown",
   "metadata": {},
   "source": [
    "#### Multiclass Logistic Regression"
   ]
  },
  {
   "cell_type": "code",
   "execution_count": 50,
   "metadata": {},
   "outputs": [
    {
     "data": {
      "text/plain": [
       "0.6145884672252341"
      ]
     },
     "execution_count": 50,
     "metadata": {},
     "output_type": "execute_result"
    }
   ],
   "source": [
    "log_clf = Pipeline([('vect', CountVectorizer()),\n",
    "                    ('tfidf', TfidfTransformer()),\n",
    "                     ('log', LogisticRegression(solver='newton-cg', multi_class='multinomial')),\n",
    "                    ])\n",
    "\n",
    "log_clf.fit(X_train, y_train)\n",
    "predicted = log_clf.predict(X_test)\n",
    "np.mean(predicted == y_test)\n",
    "#0.534"
   ]
  },
  {
   "cell_type": "code",
   "execution_count": 51,
   "metadata": {},
   "outputs": [
    {
     "name": "stdout",
     "output_type": "stream",
     "text": [
      "Mean of 5-fold cross validation for logistic regression: 57.43%\n"
     ]
    }
   ],
   "source": [
    "#cross validation\n",
    "scores = cross_val_score(log_clf, X, y, cv=5)\n",
    "s4 = scores.mean()\n",
    "s4\n",
    "print('Mean of 5-fold cross validation for logistic regression:' , \"{:.2%}\".format(scores.mean()))\n",
    "#0.48"
   ]
  },
  {
   "cell_type": "markdown",
   "metadata": {},
   "source": [
    "#### Random Forest"
   ]
  },
  {
   "cell_type": "code",
   "execution_count": 52,
   "metadata": {},
   "outputs": [
    {
     "data": {
      "text/plain": [
       "0.5623459832429768"
      ]
     },
     "execution_count": 52,
     "metadata": {},
     "output_type": "execute_result"
    }
   ],
   "source": [
    "rf_clf = Pipeline([('vect', CountVectorizer()),\n",
    "                    ('tfidf', TfidfTransformer()),\n",
    "                     ('rf', RandomForestClassifier(n_estimators=500, random_state=0)),\n",
    "                    ])\n",
    "\n",
    "rf_clf.fit(X_train, y_train)\n",
    "predicted = rf_clf.predict(X_test)\n",
    "np.mean(predicted == y_test)\n",
    "#0.534"
   ]
  },
  {
   "cell_type": "code",
   "execution_count": 53,
   "metadata": {},
   "outputs": [
    {
     "name": "stdout",
     "output_type": "stream",
     "text": [
      "Mean of 5-fold cross validation for Random Forest: 53.71%\n"
     ]
    }
   ],
   "source": [
    "#cross validation\n",
    "scores = cross_val_score(rf_clf, X, y, cv=5)\n",
    "s5 = scores.mean()\n",
    "s5\n",
    "print('Mean of 5-fold cross validation for Random Forest:' , \"{:.2%}\".format(scores.mean()))\n",
    "#0.48"
   ]
  },
  {
   "cell_type": "markdown",
   "metadata": {},
   "source": [
    "#### KNeighborsClassifier"
   ]
  },
  {
   "cell_type": "code",
   "execution_count": 54,
   "metadata": {},
   "outputs": [
    {
     "data": {
      "text/plain": [
       "0.5608674223755544"
      ]
     },
     "execution_count": 54,
     "metadata": {},
     "output_type": "execute_result"
    }
   ],
   "source": [
    "kn_clf = Pipeline([('vect', CountVectorizer()),\n",
    "                    ('tfidf', TfidfTransformer()),\n",
    "                     ('kn', KNeighborsClassifier()),\n",
    "                    ])\n",
    "\n",
    "kn_clf.fit(X_train, y_train)\n",
    "predicted = kn_clf.predict(X_test)\n",
    "np.mean(predicted == y_test)\n"
   ]
  },
  {
   "cell_type": "code",
   "execution_count": 55,
   "metadata": {},
   "outputs": [
    {
     "name": "stdout",
     "output_type": "stream",
     "text": [
      "Mean of 5-fold cross validation for KNeighborsClassifier:  48.93%\n"
     ]
    }
   ],
   "source": [
    "#cross validation\n",
    "scores = cross_val_score(kn_clf, X, y, cv=5)\n",
    "s6 = scores.mean()\n",
    "s6\n",
    "print('Mean of 5-fold cross validation for KNeighborsClassifier: ' , \"{:.2%}\".format(scores.mean()))"
   ]
  },
  {
   "cell_type": "markdown",
   "metadata": {},
   "source": [
    "#### Decision Tree"
   ]
  },
  {
   "cell_type": "code",
   "execution_count": 56,
   "metadata": {},
   "outputs": [
    {
     "data": {
      "text/plain": [
       "0.4770823065549532"
      ]
     },
     "execution_count": 56,
     "metadata": {},
     "output_type": "execute_result"
    }
   ],
   "source": [
    "from sklearn import tree\n",
    "dt_clf = Pipeline([('vect', CountVectorizer()),\n",
    "                    ('tfidf', TfidfTransformer()),\n",
    "                     ('df', tree.DecisionTreeClassifier()),\n",
    "                    ])\n",
    "\n",
    "dt_clf.fit(X_train, y_train)\n",
    "predicted = dt_clf.predict(X_test)\n",
    "np.mean(predicted == y_test)\n",
    "#0.40"
   ]
  },
  {
   "cell_type": "code",
   "execution_count": 57,
   "metadata": {},
   "outputs": [
    {
     "name": "stdout",
     "output_type": "stream",
     "text": [
      "Mean of 5-fold cross validation for DecisionTreeClassifier: 45.29%\n"
     ]
    }
   ],
   "source": [
    "#cross validation\n",
    "scores = cross_val_score(dt_clf, X, y, cv=5)\n",
    "s7 = scores.mean()\n",
    "s7\n",
    "print('Mean of 5-fold cross validation for DecisionTreeClassifier:' , \"{:.2%}\".format(scores.mean()))\n",
    "#0.35"
   ]
  },
  {
   "cell_type": "markdown",
   "metadata": {},
   "source": [
    "#### Dummy Classifier"
   ]
  },
  {
   "cell_type": "code",
   "execution_count": 58,
   "metadata": {},
   "outputs": [
    {
     "data": {
      "text/plain": [
       "0.1641202562838837"
      ]
     },
     "execution_count": 58,
     "metadata": {},
     "output_type": "execute_result"
    }
   ],
   "source": [
    "dum_clf = Pipeline([('vect', CountVectorizer()),\n",
    "                    ('tfidf', TfidfTransformer()),\n",
    "                     ('dum', DummyClassifier()),\n",
    "                    ])\n",
    "\n",
    "dum_clf.fit(X_train, y_train)\n",
    "predicted = dum_clf.predict(X_test)\n",
    "np.mean(predicted == y_test)\n",
    "#0.18"
   ]
  },
  {
   "cell_type": "code",
   "execution_count": 59,
   "metadata": {},
   "outputs": [
    {
     "name": "stdout",
     "output_type": "stream",
     "text": [
      "Mean of 5-fold cross validation for dummy classifier: 17.99%\n"
     ]
    }
   ],
   "source": [
    "#cross validation\n",
    "scores = cross_val_score(dum_clf, X, y, cv=5)\n",
    "s8 = scores.mean()\n",
    "s8\n",
    "print('Mean of 5-fold cross validation for dummy classifier:' , \"{:.2%}\".format(scores.mean()))\n",
    "#0.18"
   ]
  },
  {
   "cell_type": "code",
   "execution_count": 60,
   "metadata": {},
   "outputs": [],
   "source": [
    "scores_df = pd.DataFrame({'Scores':[s1,s2,s3,s4,s5,s6,s7,s8], 'Classifier':['SGDClassifier', 'MultinomialNB', 'SVC', 'LogisticRegression', 'Random Forest', 'KNeighborsClassifier', 'DecisionTreeClassifier' ,'DummyClassifier']})"
   ]
  },
  {
   "cell_type": "code",
   "execution_count": 61,
   "metadata": {},
   "outputs": [
    {
     "data": {
      "text/html": [
       "<div>\n",
       "<style scoped>\n",
       "    .dataframe tbody tr th:only-of-type {\n",
       "        vertical-align: middle;\n",
       "    }\n",
       "\n",
       "    .dataframe tbody tr th {\n",
       "        vertical-align: top;\n",
       "    }\n",
       "\n",
       "    .dataframe thead th {\n",
       "        text-align: right;\n",
       "    }\n",
       "</style>\n",
       "<table border=\"1\" class=\"dataframe\">\n",
       "  <thead>\n",
       "    <tr style=\"text-align: right;\">\n",
       "      <th></th>\n",
       "      <th>Scores</th>\n",
       "      <th>Classifier</th>\n",
       "    </tr>\n",
       "  </thead>\n",
       "  <tbody>\n",
       "    <tr>\n",
       "      <th>0</th>\n",
       "      <td>0.591922</td>\n",
       "      <td>SGDClassifier</td>\n",
       "    </tr>\n",
       "    <tr>\n",
       "      <th>1</th>\n",
       "      <td>0.510693</td>\n",
       "      <td>MultinomialNB</td>\n",
       "    </tr>\n",
       "    <tr>\n",
       "      <th>2</th>\n",
       "      <td>0.575851</td>\n",
       "      <td>SVC</td>\n",
       "    </tr>\n",
       "    <tr>\n",
       "      <th>3</th>\n",
       "      <td>0.574278</td>\n",
       "      <td>LogisticRegression</td>\n",
       "    </tr>\n",
       "    <tr>\n",
       "      <th>4</th>\n",
       "      <td>0.537103</td>\n",
       "      <td>Random Forest</td>\n",
       "    </tr>\n",
       "    <tr>\n",
       "      <th>5</th>\n",
       "      <td>0.489303</td>\n",
       "      <td>KNeighborsClassifier</td>\n",
       "    </tr>\n",
       "    <tr>\n",
       "      <th>6</th>\n",
       "      <td>0.452902</td>\n",
       "      <td>DecisionTreeClassifier</td>\n",
       "    </tr>\n",
       "    <tr>\n",
       "      <th>7</th>\n",
       "      <td>0.179926</td>\n",
       "      <td>DummyClassifier</td>\n",
       "    </tr>\n",
       "  </tbody>\n",
       "</table>\n",
       "</div>"
      ],
      "text/plain": [
       "     Scores              Classifier\n",
       "0  0.591922           SGDClassifier\n",
       "1  0.510693           MultinomialNB\n",
       "2  0.575851                     SVC\n",
       "3  0.574278      LogisticRegression\n",
       "4  0.537103           Random Forest\n",
       "5  0.489303    KNeighborsClassifier\n",
       "6  0.452902  DecisionTreeClassifier\n",
       "7  0.179926         DummyClassifier"
      ]
     },
     "execution_count": 61,
     "metadata": {},
     "output_type": "execute_result"
    }
   ],
   "source": [
    "scores_df"
   ]
  },
  {
   "cell_type": "markdown",
   "metadata": {},
   "source": [
    "Obviusly we are doing better than the **Dummy classifier**, with the SGDClassifier, SVC and LogisticRegression having the best score so far. For the first four classifiers, I'm going to find the best optimization of accuracy, playing with the parameters."
   ]
  },
  {
   "cell_type": "markdown",
   "metadata": {},
   "source": [
    "### OPTIMIZATION"
   ]
  },
  {
   "cell_type": "markdown",
   "metadata": {},
   "source": [
    "### Tuning Hyper Parameters Using Grid Search"
   ]
  },
  {
   "cell_type": "markdown",
   "metadata": {},
   "source": [
    "There are many parameters that affect the performance of our models. For each model I am trying to change the some parameters to check if the performance is improved."
   ]
  },
  {
   "cell_type": "markdown",
   "metadata": {},
   "source": [
    "*Setting parameters for SGDClassifier*"
   ]
  },
  {
   "cell_type": "code",
   "execution_count": 62,
   "metadata": {},
   "outputs": [],
   "source": [
    "parameters1 = {'vect__ngram_range': [(1, 1), (1, 2)],\n",
    "              'tfidf__use_idf': (True, False),\n",
    "              'vect__max_df':(0.2,0.5,0.7,0.9),\n",
    "              'vect__min_df': (5,10,15,20),\n",
    "              'sdg__alpha': (1e-2,1e-1)       \n",
    "             }           "
   ]
  },
  {
   "cell_type": "markdown",
   "metadata": {},
   "source": [
    "*Setting parameters for Multinomial Naive Bayes classifier*"
   ]
  },
  {
   "cell_type": "code",
   "execution_count": 63,
   "metadata": {},
   "outputs": [],
   "source": [
    "parameters2 = {'vect__ngram_range': [(1, 1), (1, 2)],\n",
    "              'tfidf__use_idf': (True, False),\n",
    "              'vect__max_df':(0.5,0.7,0.9),\n",
    "              'vect__min_df': (5,10,20),\n",
    "              'mnb__alpha': np.linspace(0.5, 1.5, 6),\n",
    "              'mnb__fit_prior': [True, False]\n",
    "             }\n",
    "              "
   ]
  },
  {
   "cell_type": "markdown",
   "metadata": {},
   "source": [
    "*Setting parameters for Support Vector Classifier*"
   ]
  },
  {
   "cell_type": "code",
   "execution_count": 64,
   "metadata": {},
   "outputs": [],
   "source": [
    "parameters3 = {'vect__ngram_range': [(1, 1), (1, 2)],\n",
    "              'tfidf__use_idf': (True, False),\n",
    "              'vect__max_df':(0.5,0.7,0.9),\n",
    "              'vect__min_df': (5,10,20),\n",
    "              'scv__kernel':  ['linear', 'rbf'],\n",
    "              \n",
    "             }\n",
    "              "
   ]
  },
  {
   "cell_type": "markdown",
   "metadata": {},
   "source": [
    "*Setting parameters for Logistic Regression*"
   ]
  },
  {
   "cell_type": "code",
   "execution_count": 65,
   "metadata": {},
   "outputs": [],
   "source": [
    "parameters4 = {'vect__ngram_range': [(1, 1), (1, 2)],\n",
    "              'tfidf__use_idf': (True, False),\n",
    "              'vect__max_df':(0.5,0.7,0.9),\n",
    "              'vect__min_df': (5,10,20),\n",
    "              'log__C': [0.0001, 0.001, 0.01, 0.1, 1, 10, 100, 1000],\n",
    "              'log__solver': ['sag', 'lbfgs'],\n",
    "             }\n",
    "              "
   ]
  },
  {
   "cell_type": "code",
   "execution_count": 66,
   "metadata": {},
   "outputs": [],
   "source": [
    "gs_clf1 = GridSearchCV(sdg_clf, parameters1, n_jobs=-1, cv=5)\n",
    "gs_clf2 = GridSearchCV(mnb_clf, parameters2, n_jobs=-1, cv=5)\n",
    "gs_clf3 = GridSearchCV(svc_clf, parameters3, n_jobs=-1, cv=5)\n",
    "gs_clf4 = GridSearchCV(log_clf, parameters4, n_jobs=-1, cv=5)"
   ]
  },
  {
   "cell_type": "code",
   "execution_count": 67,
   "metadata": {},
   "outputs": [
    {
     "name": "stderr",
     "output_type": "stream",
     "text": [
      "c:\\users\\brikena kokalari\\appdata\\local\\programs\\python\\python36\\lib\\site-packages\\sklearn\\linear_model\\logistic.py:947: ConvergenceWarning: lbfgs failed to converge. Increase the number of iterations.\n",
      "  \"of iterations.\", ConvergenceWarning)\n"
     ]
    }
   ],
   "source": [
    "#Attention! this takes a lot to run!\n",
    "#fit the model\n",
    "gs_clf1 = gs_clf1.fit(X_train, y_train)\n",
    "gs_clf2 = gs_clf2.fit(X_train, y_train)\n",
    "gs_clf3 = gs_clf3.fit(X_train, y_train)\n",
    "gs_clf4 = gs_clf4.fit(X_train, y_train)\n"
   ]
  },
  {
   "cell_type": "markdown",
   "metadata": {},
   "source": [
    "### Improvements"
   ]
  },
  {
   "cell_type": "markdown",
   "metadata": {},
   "source": [
    "Let's see if the accuracy improved chosing the best parameters for each model"
   ]
  },
  {
   "cell_type": "markdown",
   "metadata": {},
   "source": [
    "**SGDClassifier**"
   ]
  },
  {
   "cell_type": "code",
   "execution_count": 68,
   "metadata": {},
   "outputs": [
    {
     "data": {
      "text/plain": [
       "0.602267126663381"
      ]
     },
     "execution_count": 68,
     "metadata": {},
     "output_type": "execute_result"
    }
   ],
   "source": [
    "predicted_gs = gs_clf1.predict(X_test)\n",
    "np.mean(predicted_gs == y_test)"
   ]
  },
  {
   "cell_type": "code",
   "execution_count": 69,
   "metadata": {},
   "outputs": [
    {
     "data": {
      "text/plain": [
       "{'sdg__alpha': 0.01,\n",
       " 'tfidf__use_idf': True,\n",
       " 'vect__max_df': 0.2,\n",
       " 'vect__min_df': 5,\n",
       " 'vect__ngram_range': (1, 2)}"
      ]
     },
     "execution_count": 69,
     "metadata": {},
     "output_type": "execute_result"
    }
   ],
   "source": [
    "gs_clf1.best_params_"
   ]
  },
  {
   "cell_type": "code",
   "execution_count": 70,
   "metadata": {},
   "outputs": [
    {
     "data": {
      "text/plain": [
       "0.5881192999753513"
      ]
     },
     "execution_count": 70,
     "metadata": {},
     "output_type": "execute_result"
    }
   ],
   "source": [
    "gs_clf1.best_score_"
   ]
  },
  {
   "cell_type": "markdown",
   "metadata": {},
   "source": [
    " 1,03% Improvment on SGDClassifier "
   ]
  },
  {
   "cell_type": "markdown",
   "metadata": {},
   "source": [
    "**Multinomial Naive Bayes**"
   ]
  },
  {
   "cell_type": "code",
   "execution_count": 71,
   "metadata": {},
   "outputs": [
    {
     "data": {
      "text/plain": [
       "0.6047313947757516"
      ]
     },
     "execution_count": 71,
     "metadata": {},
     "output_type": "execute_result"
    }
   ],
   "source": [
    "predicted_gs = gs_clf2.predict(X_test)\n",
    "np.mean(predicted_gs == y_test)"
   ]
  },
  {
   "cell_type": "markdown",
   "metadata": {},
   "source": [
    "9,4% Improvement in accuracy on Multinomial Naive Bayes"
   ]
  },
  {
   "cell_type": "markdown",
   "metadata": {},
   "source": [
    "**Support Vector Classifier**"
   ]
  },
  {
   "cell_type": "code",
   "execution_count": 72,
   "metadata": {},
   "outputs": [
    {
     "data": {
      "text/plain": [
       "0.6002957121734844"
      ]
     },
     "execution_count": 72,
     "metadata": {},
     "output_type": "execute_result"
    }
   ],
   "source": [
    "predicted_gs = gs_clf3.predict(X_test)\n",
    "np.mean(predicted_gs == y_test)"
   ]
  },
  {
   "cell_type": "markdown",
   "metadata": {},
   "source": [
    "2,44% Improvement on Support Vector Classifier"
   ]
  },
  {
   "cell_type": "markdown",
   "metadata": {},
   "source": [
    "**Logistic Regression**"
   ]
  },
  {
   "cell_type": "code",
   "execution_count": 73,
   "metadata": {},
   "outputs": [
    {
     "data": {
      "text/plain": [
       "0.602267126663381"
      ]
     },
     "execution_count": 73,
     "metadata": {},
     "output_type": "execute_result"
    }
   ],
   "source": [
    "predicted_gs = gs_clf4.predict(X_test)\n",
    "np.mean(predicted_gs == y_test)"
   ]
  },
  {
   "cell_type": "markdown",
   "metadata": {},
   "source": [
    "2,69% Improvement on Logistic Regreesion"
   ]
  },
  {
   "cell_type": "markdown",
   "metadata": {},
   "source": [
    "\n",
    "Clearly we can see SGD, Logistic Regression, Multinomial Naive Bayes and Support Vector Classifier perform better than other classifiers. The best score so far is 60%."
   ]
  },
  {
   "cell_type": "markdown",
   "metadata": {},
   "source": [
    "![title](log.jpg)"
   ]
  },
  {
   "cell_type": "markdown",
   "metadata": {},
   "source": [
    "# TfidfVectorizer"
   ]
  },
  {
   "cell_type": "markdown",
   "metadata": {},
   "source": [
    "### Vectorize Using TfidfVectorizer"
   ]
  },
  {
   "cell_type": "markdown",
   "metadata": {},
   "source": [
    "In a corpus, several common words makes up lot of space which carry very little information about content of document.\n",
    "If we feed these counts directly to a classifier(like the above code) then those frequently occurring words will shadow the real interesting terms of the document.\n",
    "So we re-weight count feature vectors using tf-idf transform method and then feed the data into classifier for better classification.\n",
    "TfidfVectorizer combines all options of CountVectorizer and TfidfTransformer in a single model. It converts a collection of raw documents to a matrix of TF-IDF features.The goal of using tf-idf instead of the raw frequencies of occurrence of a token in a given document is to scale down the impact of tokens that occur very frequently in a given corpus and that are hence empirically less informative than features that occur in a small fraction of the training corpus."
   ]
  },
  {
   "cell_type": "markdown",
   "metadata": {},
   "source": [
    "*Let's try using TfidfVectorizer*"
   ]
  },
  {
   "cell_type": "code",
   "execution_count": 74,
   "metadata": {},
   "outputs": [],
   "source": [
    "corpus=list(df.tweet)"
   ]
  },
  {
   "cell_type": "code",
   "execution_count": 75,
   "metadata": {},
   "outputs": [],
   "source": [
    "vectorizer = TfidfVectorizer(min_df = 0.05,max_df =0.9,strip_accents = 'unicode', lowercase =True)\n",
    "X = vectorizer.fit_transform(corpus).toarray()\n",
    "y = df.iloc[:,1].values"
   ]
  },
  {
   "cell_type": "code",
   "execution_count": 76,
   "metadata": {},
   "outputs": [],
   "source": [
    "#Splitting the dataset\n",
    "X_train,X_test,y_train,y_test = train_test_split(X,y, test_size=0.2, random_state=2,shuffle = True , stratify=y)"
   ]
  },
  {
   "cell_type": "code",
   "execution_count": 77,
   "metadata": {},
   "outputs": [],
   "source": [
    "#function to create different classifiers\n",
    "from sklearn.metrics import accuracy_score\n",
    "def classifier(object):\n",
    "    classifier = object\n",
    "    classifier.fit(X_train,y_train)\n",
    "\n",
    "    y_pred = classifier.predict(X_test)\n",
    "    cm = confusion_matrix(y_test,y_pred)\n",
    "    acc = accuracy_score(y_test,y_pred)\n",
    "    return cm,acc"
   ]
  },
  {
   "cell_type": "markdown",
   "metadata": {},
   "source": [
    "**Multinomial Naive Bayes**"
   ]
  },
  {
   "cell_type": "code",
   "execution_count": 78,
   "metadata": {
    "scrolled": true
   },
   "outputs": [
    {
     "name": "stdout",
     "output_type": "stream",
     "text": [
      "(array([[ 17,   0, 198,   0,   0,   0,  80],\n",
      "       [  5,   0, 131,   0,   0,   0,  65],\n",
      "       [ 11,   0, 365,   1,   0,   0, 105],\n",
      "       [ 18,   0, 222,   0,   0,   0,  92],\n",
      "       [  2,   0,  34,   0,   0,   0,  19],\n",
      "       [ 10,   0, 159,   0,   0,   0,  23],\n",
      "       [ 13,   0, 294,   1,   0,   0, 164]], dtype=int64), 0.26909807787087237)\n"
     ]
    }
   ],
   "source": [
    "print(classifier(MultinomialNB()))"
   ]
  },
  {
   "cell_type": "markdown",
   "metadata": {},
   "source": [
    "**Support Vector Classifier**"
   ]
  },
  {
   "cell_type": "code",
   "execution_count": 79,
   "metadata": {},
   "outputs": [
    {
     "name": "stdout",
     "output_type": "stream",
     "text": [
      "(array([[ 24,   0,  10,   0,   0,   0, 261],\n",
      "       [  6,   0,  19,   0,   0,   0, 176],\n",
      "       [ 14,   0, 140,   1,   0,   0, 327],\n",
      "       [ 19,   0,  14,   0,   0,   0, 299],\n",
      "       [  2,   0,   4,   0,   0,   0,  49],\n",
      "       [  9,   0,  10,   0,   0,   0, 173],\n",
      "       [ 17,   0,  31,   1,   0,   0, 423]], dtype=int64), 0.2893050763923115)\n"
     ]
    }
   ],
   "source": [
    "print(classifier(SVC(kernel='linear')))"
   ]
  },
  {
   "cell_type": "markdown",
   "metadata": {},
   "source": [
    "**Stochstic Gradient Descent**"
   ]
  },
  {
   "cell_type": "code",
   "execution_count": 80,
   "metadata": {},
   "outputs": [
    {
     "name": "stdout",
     "output_type": "stream",
     "text": [
      "(array([[  0,  17,  90,   0, 188,   0,   0],\n",
      "       [  0,  21,  68,   0, 112,   0,   0],\n",
      "       [  0,  38, 221,   0, 223,   0,   0],\n",
      "       [  0,  26,  98,   0, 208,   0,   0],\n",
      "       [  0,   6,  19,   0,  30,   0,   0],\n",
      "       [  0,  13,  29,   0, 150,   0,   0],\n",
      "       [  0,  36, 172,   0, 264,   0,   0]], dtype=int64), 0.13405618531296204)\n"
     ]
    }
   ],
   "source": [
    "print(classifier(SGDClassifier()))"
   ]
  },
  {
   "cell_type": "markdown",
   "metadata": {},
   "source": [
    "**Logistic Regression**"
   ]
  },
  {
   "cell_type": "code",
   "execution_count": 81,
   "metadata": {},
   "outputs": [
    {
     "name": "stdout",
     "output_type": "stream",
     "text": [
      "(array([[ 14,   0,  43,   0,   0,   0, 238],\n",
      "       [  4,   0,  40,   0,   0,   0, 157],\n",
      "       [  9,   0, 206,   0,   0,   0, 267],\n",
      "       [ 18,   0,  50,   0,   0,   0, 264],\n",
      "       [  2,   0,   5,   0,   0,   0,  48],\n",
      "       [  9,   0,  21,   0,   0,   0, 162],\n",
      "       [ 12,   0,  94,   0,   0,   0, 366]], dtype=int64), 0.28881222276983737)\n"
     ]
    }
   ],
   "source": [
    "print(classifier(LogisticRegression(multi_class='multinomial', solver= 'saga')))"
   ]
  },
  {
   "cell_type": "markdown",
   "metadata": {},
   "source": [
    "**Dummy Classifier**"
   ]
  },
  {
   "cell_type": "code",
   "execution_count": 82,
   "metadata": {},
   "outputs": [
    {
     "name": "stdout",
     "output_type": "stream",
     "text": [
      "(array([[ 44,  19,  78,  47,   7,  28,  72],\n",
      "       [ 20,  17,  61,  27,   8,  29,  39],\n",
      "       [ 60,  49, 108,  79,   9,  46, 131],\n",
      "       [ 44,  30,  72,  63,  16,  37,  70],\n",
      "       [  7,   4,   9,   9,   7,   0,  19],\n",
      "       [ 25,  25,  46,  29,   6,  19,  42],\n",
      "       [ 55,  52, 108,  75,  19,  52, 111]], dtype=int64), 0.1818629866929522)\n"
     ]
    }
   ],
   "source": [
    "print(classifier(DummyClassifier()))"
   ]
  },
  {
   "cell_type": "markdown",
   "metadata": {},
   "source": [
    "**Random Forest**"
   ]
  },
  {
   "cell_type": "code",
   "execution_count": 83,
   "metadata": {},
   "outputs": [
    {
     "name": "stdout",
     "output_type": "stream",
     "text": [
      "(array([[ 19,   0,  47,   0,   0,   0, 229],\n",
      "       [  7,   0,  44,   0,   0,   0, 150],\n",
      "       [  9,   0, 212,   0,   0,   0, 261],\n",
      "       [ 19,   0,  51,   0,   0,   0, 262],\n",
      "       [  2,   0,   5,   0,   0,   0,  48],\n",
      "       [  9,   0,  21,   0,   0,   0, 162],\n",
      "       [ 14,   0,  94,   0,   0,   0, 364]], dtype=int64), 0.2932479053721045)\n"
     ]
    }
   ],
   "source": [
    "print(classifier(RandomForestClassifier(n_estimators=500)))"
   ]
  },
  {
   "cell_type": "markdown",
   "metadata": {},
   "source": [
    "### 5-Fold Cross Validation "
   ]
  },
  {
   "cell_type": "code",
   "execution_count": 84,
   "metadata": {},
   "outputs": [
    {
     "name": "stderr",
     "output_type": "stream",
     "text": [
      "c:\\users\\brikena kokalari\\appdata\\local\\programs\\python\\python36\\lib\\site-packages\\sklearn\\linear_model\\logistic.py:432: FutureWarning: Default solver will be changed to 'lbfgs' in 0.22. Specify a solver to silence this warning.\n",
      "  FutureWarning)\n",
      "c:\\users\\brikena kokalari\\appdata\\local\\programs\\python\\python36\\lib\\site-packages\\sklearn\\linear_model\\logistic.py:469: FutureWarning: Default multi_class will be changed to 'auto' in 0.22. Specify the multi_class option to silence this warning.\n",
      "  \"this warning.\", FutureWarning)\n",
      "c:\\users\\brikena kokalari\\appdata\\local\\programs\\python\\python36\\lib\\site-packages\\sklearn\\linear_model\\logistic.py:432: FutureWarning: Default solver will be changed to 'lbfgs' in 0.22. Specify a solver to silence this warning.\n",
      "  FutureWarning)\n",
      "c:\\users\\brikena kokalari\\appdata\\local\\programs\\python\\python36\\lib\\site-packages\\sklearn\\linear_model\\logistic.py:469: FutureWarning: Default multi_class will be changed to 'auto' in 0.22. Specify the multi_class option to silence this warning.\n",
      "  \"this warning.\", FutureWarning)\n",
      "c:\\users\\brikena kokalari\\appdata\\local\\programs\\python\\python36\\lib\\site-packages\\sklearn\\linear_model\\logistic.py:432: FutureWarning: Default solver will be changed to 'lbfgs' in 0.22. Specify a solver to silence this warning.\n",
      "  FutureWarning)\n",
      "c:\\users\\brikena kokalari\\appdata\\local\\programs\\python\\python36\\lib\\site-packages\\sklearn\\linear_model\\logistic.py:469: FutureWarning: Default multi_class will be changed to 'auto' in 0.22. Specify the multi_class option to silence this warning.\n",
      "  \"this warning.\", FutureWarning)\n",
      "c:\\users\\brikena kokalari\\appdata\\local\\programs\\python\\python36\\lib\\site-packages\\sklearn\\linear_model\\logistic.py:432: FutureWarning: Default solver will be changed to 'lbfgs' in 0.22. Specify a solver to silence this warning.\n",
      "  FutureWarning)\n",
      "c:\\users\\brikena kokalari\\appdata\\local\\programs\\python\\python36\\lib\\site-packages\\sklearn\\linear_model\\logistic.py:469: FutureWarning: Default multi_class will be changed to 'auto' in 0.22. Specify the multi_class option to silence this warning.\n",
      "  \"this warning.\", FutureWarning)\n",
      "c:\\users\\brikena kokalari\\appdata\\local\\programs\\python\\python36\\lib\\site-packages\\sklearn\\linear_model\\logistic.py:432: FutureWarning: Default solver will be changed to 'lbfgs' in 0.22. Specify a solver to silence this warning.\n",
      "  FutureWarning)\n",
      "c:\\users\\brikena kokalari\\appdata\\local\\programs\\python\\python36\\lib\\site-packages\\sklearn\\linear_model\\logistic.py:469: FutureWarning: Default multi_class will be changed to 'auto' in 0.22. Specify the multi_class option to silence this warning.\n",
      "  \"this warning.\", FutureWarning)\n"
     ]
    }
   ],
   "source": [
    "models = [\n",
    "    SGDClassifier(),\n",
    "    LogisticRegression(),\n",
    "    MultinomialNB(),\n",
    "    RandomForestClassifier(n_estimators=500),\n",
    "    SVC(kernel='linear'),\n",
    "    DummyClassifier(),\n",
    "]\n",
    "CV = 5\n",
    "cv_df = pd.DataFrame(index=range(CV * len(models)))\n",
    "entries = []\n",
    "for model in models:\n",
    "    model_name = model.__class__.__name__\n",
    "    accuracies = cross_val_score(model, X, y, scoring='accuracy', cv=CV)\n",
    "    for fold_idx, accuracy in enumerate(accuracies):\n",
    "         entries.append((model_name, fold_idx, accuracy))\n",
    "cv_df = pd.DataFrame(entries, columns=['model_name', 'fold_idx', 'accuracy'])"
   ]
  },
  {
   "cell_type": "code",
   "execution_count": 85,
   "metadata": {},
   "outputs": [
    {
     "data": {
      "image/png": "[encoded data removed]",
      "text/plain": [
       "<Figure size 1080x360 with 1 Axes>"
      ]
     },
     "metadata": {
      "needs_background": "light"
     },
     "output_type": "display_data"
    }
   ],
   "source": [
    "import seaborn as sns\n",
    "plt.figure(figsize=(15,5))\n",
    "\n",
    "ax=sns.boxplot(x='model_name', y='accuracy', data=cv_df)\n",
    "sns.stripplot(x='model_name', y='accuracy', data=cv_df, \n",
    "              size=8, jitter=True, edgecolor=\"gray\", linewidth=2)\n",
    "ax.set(xlabel='Moldes', ylabel='Mean Accuracy with CV')\n",
    "plt.show()"
   ]
  },
  {
   "cell_type": "code",
   "execution_count": 86,
   "metadata": {},
   "outputs": [
    {
     "name": "stdout",
     "output_type": "stream",
     "text": [
      "total time of notebook execution 2814s\n"
     ]
    }
   ],
   "source": [
    "stop = timeit.default_timer()\n",
    "print(\"total time of notebook execution %0.fs\" % (stop - start))"
   ]
  },
  {
   "cell_type": "markdown",
   "metadata": {},
   "source": [
    "Unfortunately, we did not do better with TfidfVectorizer.\n"
   ]
  },
  {
   "cell_type": "markdown",
   "metadata": {},
   "source": [
    "**The best score achived is around 60%**"
   ]
  },
  {
   "cell_type": "code",
   "execution_count": null,
   "metadata": {},
   "outputs": [],
   "source": []
  }
 ],
 "metadata": {
  "kernelspec": {
   "display_name": "Python 3",
   "language": "python",
   "name": "python3"
  },
  "language_info": {
   "codemirror_mode": {
    "name": "ipython",
    "version": 3
   },
   "file_extension": ".py",
   "mimetype": "text/x-python",
   "name": "python",
   "nbconvert_exporter": "python",
   "pygments_lexer": "ipython3",
   "version": "3.6.8"
  }
 },
 "nbformat": 4,
 "nbformat_minor": 2
}
